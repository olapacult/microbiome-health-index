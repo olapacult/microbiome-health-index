{
 "cells": [
  {
   "metadata": {},
   "cell_type": "markdown",
   "source": "## EXTRACTION OF STUDY ACCESION NUMBERS OF DATA USED IN GMHI MANUSCRIPT",
   "id": "305940ed7bd4637d"
  },
  {
   "cell_type": "code",
   "id": "initial_id",
   "metadata": {
    "collapsed": true,
    "ExecuteTime": {
     "end_time": "2025-10-02T15:27:45.964941Z",
     "start_time": "2025-10-02T15:27:45.673307Z"
    }
   },
   "source": [
    "#Studies and samples used to construct a meta-dataset composed of 4,347 human stool metagenomes.\n",
    "import pandas as pd\n",
    "df = pd.read_excel(\"gmhi1.xlsx\")\n",
    "df = df.reset_index(drop=True)\n",
    "print(df.columns.tolist())\n",
    "print(\"----------------------------------------\")\n",
    "df_unique = df[\"Study Accession\"].unique()\n",
    "print(df_unique)\n",
    "print(\"----------------------------------------\")\n",
    "phenotype = df[\"Phenotype\"].unique()\n",
    "print(phenotype)"
   ],
   "outputs": [
    {
     "name": "stdout",
     "output_type": "stream",
     "text": [
      "['Study Accession', 'Phenotype', 'Age', 'Sex', 'BMI (kg/m²)', 'Fasting Blood Glucose (mmol/L)', 'Triglycerides (mmol/L)', 'LDL Cholesterol (mmol/L)', 'Cholesterol (mmol/L)', 'HDL Cholesterol (mmol/L)', 'Physical Exercise (Yes/No/Hours)', 'Smoker (Yes/No)', 'Dairy Product Consumption', 'Meat Consumption (Yes/No/Vegetarian)', 'Alcohol Consumption (Yes/No/Frequency)']\n",
      "----------------------------------------\n",
      "['PRJEB21528' 'PRJEB7774' 'PRJEB6070' 'PRJEB12449' 'PRJEB10878'\n",
      " 'PRJEB1220' 'PRJNA385949' 'PRJNA389280' 'PRJEB15371' 'PRJNA278393'\n",
      " 'PRJNA422434' 'PRJEB1786' 'PRJEB6337' 'PRJEB12123' 'PRJEB19090'\n",
      " 'PRJNA305507' 'PRJNA268964' 'PRJEB1690' 'PRJNA319574' 'PRJEB11532'\n",
      " 'PRJEB6997' 'PRJNA299502' 'PRJDB3601' 'PRJEB8094' 'PRJEB13870'\n",
      " 'PRJEB6456' 'PRJEB4336' 'PRJNA177201' 'PRJNA373879' 'PRJNA328899'\n",
      " 'PRJNA48479' 'PRJNA290729' 'PRJEB12947']\n",
      "----------------------------------------\n",
      "['ACVD' 'Colorectal adenoma' 'Colorectal cancer' \"Crohn's disease\"\n",
      " 'Healthy' 'Obesity' 'Overweight' 'Rheumatoid arthritis'\n",
      " 'Symptomatic atherosclerosis' 'Impaired glucose tolerance'\n",
      " 'Type 2 diabetes' 'Ulcerative colitis' 'Underweight']\n"
     ]
    }
   ],
   "execution_count": 11
  },
  {
   "metadata": {
    "ExecuteTime": {
     "end_time": "2025-10-02T15:30:26.118345Z",
     "start_time": "2025-10-02T15:30:26.062181Z"
    }
   },
   "cell_type": "code",
   "source": [
    "#Studies and samples used to construct the independent validation set composed of 679 human stool metagenomes\n",
    "import pandas as pd\n",
    "\n",
    "df = pd.read_excel(\"gmhi4.xlsx\")\n",
    "df_unique = df[\"Study Accession\"].unique()\n",
    "print(df_unique)\n",
    "gmhi_validation = df_unique.tolist()"
   ],
   "id": "d5b6906debf503a5",
   "outputs": [
    {
     "name": "stdout",
     "output_type": "stream",
     "text": [
      "['PRJNA321058' 'PRJEB17784' 'PRJEB6337' 'PRJNA397112' 'PRJNA373901'\n",
      " 'PRJNA375935' 'PRJNA447983' 'PRJDB4176' 'PRJEB27928' nan]\n"
     ]
    },
    {
     "name": "stderr",
     "output_type": "stream",
     "text": [
      "/usr/lib/python3/dist-packages/openpyxl/styles/stylesheet.py:226: UserWarning: Workbook contains no default style, apply openpyxl's default\n",
      "  warn(\"Workbook contains no default style, apply openpyxl's default\")\n"
     ]
    }
   ],
   "execution_count": 15
  }
 ],
 "metadata": {
  "kernelspec": {
   "display_name": "Python 3",
   "language": "python",
   "name": "python3"
  },
  "language_info": {
   "codemirror_mode": {
    "name": "ipython",
    "version": 2
   },
   "file_extension": ".py",
   "mimetype": "text/x-python",
   "name": "python",
   "nbconvert_exporter": "python",
   "pygments_lexer": "ipython2",
   "version": "2.7.6"
  }
 },
 "nbformat": 4,
 "nbformat_minor": 5
}
