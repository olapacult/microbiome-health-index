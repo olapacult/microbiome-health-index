{
 "cells": [
  {
   "metadata": {},
   "cell_type": "markdown",
   "source": "## EXTRACTION OF STUDY ACCESSION NUMBERS OF DATA USED IN GMWI2 MANUSCRIPT",
   "id": "1ded5b715c1227ea"
  },
  {
   "metadata": {
    "ExecuteTime": {
     "end_time": "2025-10-02T15:32:32.898982Z",
     "start_time": "2025-10-02T15:32:32.340818Z"
    }
   },
   "cell_type": "code",
   "source": [
    "#Supplementary Data 2. Stool shotgun metagenome samples (n = 8069) from 54 independently published studies ranging across healthy and 11 non-healthy phenotypes.\n",
    "import pandas as pd\n",
    "\n",
    "df = pd.read_excel(\"gmwi2.xlsx\")\n",
    "df_unique = df[\"BioProjectID\"].unique()\n",
    "print(df_unique)\n",
    "gmwi2_training = df_unique.tolist()"
   ],
   "id": "35bf77eb7cc29fd4",
   "outputs": [
    {
     "name": "stderr",
     "output_type": "stream",
     "text": [
      "/usr/lib/python3/dist-packages/openpyxl/styles/stylesheet.py:226: UserWarning: Workbook contains no default style, apply openpyxl's default\n",
      "  warn(\"Workbook contains no default style, apply openpyxl's default\")\n"
     ]
    },
    {
     "name": "stdout",
     "output_type": "stream",
     "text": [
      "[nan 'PRJNA384246' 'PRJNA665061' 'PRJEB39223' 'PRJEB6456' 'PRJEB17632'\n",
      " 'PRJNA688274' 'PRJNA588805' 'PRJNA340216' 'PRJNA421881' 'PRJNA397112'\n",
      " 'PRJEB7774' 'PRJNA400072' 'PRJEB12124' 'PRJNA598446' 'PRJEB15371'\n",
      " 'PRJNA48479' 'PRJNA275349' 'PRJNA690543' 'PRJEB21528' 'PRJEB1786'\n",
      " 'PRJEB33013' 'PRJEB4336' 'PRJNA328899' 'PRJNA398089' 'PRJEB27005'\n",
      " 'PRJNA373901' 'PRJNA354235' 'PRJEB1220' 'PRJNA268964' 'PRJNA485056'\n",
      " 'PRJNA504891' 'PRJNA530971' 'PRJNA422434' 'PRJEB6337' 'PRJNA672125'\n",
      " 'PRJNA395744' 'PRJNA319574' 'PRJNA389280' 'PRJNA392180' 'PRJNA693850'\n",
      " 'PRJNA529124' 'PRJNA529400' 'PRJDB4176' 'PRJNA447983' 'PRJEB28543'\n",
      " 'PRJEB12449' 'PRJNA375935' 'PRJNA429990' 'PRJEB27928' 'PRJEB9576'\n",
      " 'PRJNA429097' 'PRJNA763023' 'PRJNA475246' 'PRJEB10878' 'PRJEB11532'\n",
      " 'PRJEB6070' 'PRJEB6997' 'PRJNA602729' 'PRJNA602731' 'PRJNA638404'\n",
      " 'PRJNA638403' 'PRJNA602732' 'PRJNA638405']\n"
     ]
    }
   ],
   "execution_count": 5
  },
  {
   "metadata": {
    "ExecuteTime": {
     "end_time": "2025-10-02T15:33:17.356868Z",
     "start_time": "2025-10-02T15:33:17.295407Z"
    }
   },
   "cell_type": "code",
   "source": [
    "#Supplementary Data 7. Human stool metagenome samples (n = 1140) in the external validation dataset.\n",
    "import pandas as pd\n",
    "\n",
    "df = pd.read_excel(\"gmwi7.xlsx\")\n",
    "df_unique = df[\"BioProjectID\"].unique()\n",
    "print(df_unique)\n",
    "gmwi2_validation = df_unique.tolist()"
   ],
   "id": "c708c6cec9f05611",
   "outputs": [
    {
     "name": "stdout",
     "output_type": "stream",
     "text": [
      "[nan 'PRJNA834801' 'PRJEB49206' 'PRJNA890008' 'PRJEB28545' 'PRJEB24557'\n",
      " 'PRJNA832909']\n"
     ]
    },
    {
     "name": "stderr",
     "output_type": "stream",
     "text": [
      "/usr/lib/python3/dist-packages/openpyxl/styles/stylesheet.py:226: UserWarning: Workbook contains no default style, apply openpyxl's default\n",
      "  warn(\"Workbook contains no default style, apply openpyxl's default\")\n"
     ]
    }
   ],
   "execution_count": 8
  }
 ],
 "metadata": {
  "kernelspec": {
   "display_name": "Python 3",
   "language": "python",
   "name": "python3"
  },
  "language_info": {
   "codemirror_mode": {
    "name": "ipython",
    "version": 2
   },
   "file_extension": ".py",
   "mimetype": "text/x-python",
   "name": "python",
   "nbconvert_exporter": "python",
   "pygments_lexer": "ipython2",
   "version": "2.7.6"
  }
 },
 "nbformat": 4,
 "nbformat_minor": 5
}
