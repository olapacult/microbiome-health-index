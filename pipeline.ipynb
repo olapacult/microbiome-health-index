{
  "cells": [
    {
      "cell_type": "code",
      "execution_count": null,
      "metadata": {
        "colab": {
          "base_uri": "https://localhost:8080/"
        },
        "collapsed": true,
        "id": "XYSc-_DvLAoS",
        "outputId": "01e53423-64cd-4b28-de6a-e829e9f2ca49"
      },
      "outputs": [
        {
          "name": "stdout",
          "output_type": "stream",
          "text": [
            "Podaj ścieżkę do pliku: all_study_accessions.txt\n",
            "['PRJEB27928', 'PRJNA290729', 'PRJNA397112', 'PRJNA278393', 'PRJEB33013', 'PRJNA638405', 'PRJNA890008', 'PRJNA449784', 'PRJDB3601', 'PRJNA602729', 'PRJNA598446', 'PRJEB29127', 'PRJEB1690', 'PRJEB28543', 'PRJEB4336', 'PRJNA389280', 'PRJNA398089', 'PRJNA504891', 'PRJEB19090', 'PRJEB12947', 'PRJEB6337', 'PRJNA422434', 'PRJEB1220', 'PRJEB24557', 'PRJNA400072', 'PRJNA354235', 'PRJNA763023', 'PRJNA268964', 'PRJNA384246', 'PRJNA48479', 'PRJNA638404', 'PRJNA447983', 'PRJEB6070', 'PRJNA834801', 'PRJNA373901', 'PRJEB6456', 'PRJNA638403', 'PRJNA385949', 'PRJNA429097', 'PRJEB27005', 'PRJEB8094', 'PRJNA373879', 'PRJEB10878', 'PRJEB17784', 'PRJEB12124', 'PRJNA690543', 'PRJNA602731', 'PRJNA299502', 'PRJEB11532', 'PRJNA529124', 'PRJNA665061', 'PRJNA328899', 'PRJNA475246', 'PRJEB9576', 'PRJNA392180', 'PRJNA688274', 'PRJNA340216', 'PRJNA421881', 'PRJNA832909', 'PRJEB39223', 'PRJNA395744', 'PRJNA375935', 'PRJNA319574', 'PRJEB12449', 'PRJEB1786', 'PRJEB21528', 'PRJNA530971', 'PRJEB17632', 'PRJEB12123', 'PRJEB49206', 'PRJNA275349', 'PRJNA321058', 'PRJEB28545', 'PRJNA588805', 'PRJNA429990', 'PRJNA602732', 'PRJNA531203', 'PRJEB7774', 'PRJDB4176', 'PRJEB13870', 'PRJEB6997', 'PRJNA305507', 'PRJNA177201', 'PRJNA529400', 'PRJEB15371', 'PRJNA672125', 'PRJNA485056', 'PRJNA693850']\n"
          ]
        },
        {
          "data": {
            "text/plain": [
              "98"
            ]
          },
          "execution_count": 16,
          "metadata": {},
          "output_type": "execute_result"
        }
      ],
      "source": [
        "import requests\n",
        "import pandas as pd\n",
        "\n",
        "path = input(\"Podaj ścieżkę do pliku: \")\n",
        "\n",
        "exclude = []\n",
        "\n",
        "with open(path) as f:\n",
        "\n",
        "  for line in f:\n",
        "    exclude.append(line.strip())\n",
        "\n",
        "\n",
        "print(exclude)\n",
        "exclude_bioprojects = [x for x in exclude if x.startswith(\"PRJ\")]\n",
        "\n",
        "query = \"(gut microbiome[mesh] AND stool[mesh] AND shotgun[mesh])\"\n",
        "for prj in exclude:\n",
        "    query += f\" NOT {prj}[BioProject]\"\n",
        "\n",
        "base_esearch = \"https://eutils.ncbi.nlm.nih.gov/entrez/eutils/esearch.fcgi\"\n",
        "params_esearch = {\n",
        "    \"db\": \"bioproject\",\n",
        "    \"term\": query,\n",
        "    \"retmode\": \"json\",\n",
        "    \"retmax\": 10000,\n",
        "    \"usehistory\": \"y\",\n",
        "    \"tool\": \"microbiome_pipeline\",\n",
        "    \"email\": \"ola.pacult@gmail.com\"\n",
        "}\n",
        "\n",
        "r = requests.get(base_esearch, params=params_esearch).json()\n",
        "query_key = r[\"esearchresult\"][\"querykey\"]\n",
        "webenv = r[\"esearchresult\"][\"webenv\"]\n",
        "\n",
        "\n",
        "base_summary = \"https://eutils.ncbi.nlm.nih.gov/entrez/eutils/esummary.fcgi\"\n",
        "params_summary = {\n",
        "    \"db\": \"bioproject\",\n",
        "    \"query_key\": query_key,\n",
        "    \"WebEnv\": webenv,\n",
        "    \"retmode\": \"json\",\n",
        "    \"retmax\": 10000\n",
        "}\n",
        "\n",
        "r = requests.get(base_summary, params=params_summary).json()\n",
        "records = r['result']\n",
        "uids = records['uids']\n",
        "\n",
        "bio_projects_accessions = []\n",
        "\n",
        "for uid in uids:\n",
        "  bio_projects_accessions.append(records[uid]['project_acc'])\n",
        "\n",
        "len(bio_projects_accessions)\n",
        "\n",
        "\n",
        "\n"
      ]
    },
    {
      "cell_type": "code",
      "execution_count": null,
      "metadata": {
        "colab": {
          "base_uri": "https://localhost:8080/"
        },
        "id": "bRRKdEmFce3S",
        "outputId": "a28f286c-111b-46ec-82f7-f4dd91fdcc74"
      },
      "outputs": [
        {
          "name": "stdout",
          "output_type": "stream",
          "text": [
            "Collecting pysradb\n",
            "  Downloading pysradb-2.4.1-py3-none-any.whl.metadata (20 kB)\n",
            "Requirement already satisfied: lxml>=4.6.3 in /usr/local/lib/python3.12/dist-packages (from pysradb) (5.4.0)\n",
            "Requirement already satisfied: pandas>=1.3.2 in /usr/local/lib/python3.12/dist-packages (from pysradb) (2.2.2)\n",
            "Requirement already satisfied: requests>=2.26.0 in /usr/local/lib/python3.12/dist-packages (from pysradb) (2.32.4)\n",
            "Requirement already satisfied: tqdm>=4.62.1 in /usr/local/lib/python3.12/dist-packages (from pysradb) (4.67.1)\n",
            "Collecting xmltodict>=0.12.0 (from pysradb)\n",
            "  Downloading xmltodict-1.0.2-py3-none-any.whl.metadata (15 kB)\n",
            "Requirement already satisfied: numpy>=1.26.0 in /usr/local/lib/python3.12/dist-packages (from pandas>=1.3.2->pysradb) (2.0.2)\n",
            "Requirement already satisfied: python-dateutil>=2.8.2 in /usr/local/lib/python3.12/dist-packages (from pandas>=1.3.2->pysradb) (2.9.0.post0)\n",
            "Requirement already satisfied: pytz>=2020.1 in /usr/local/lib/python3.12/dist-packages (from pandas>=1.3.2->pysradb) (2025.2)\n",
            "Requirement already satisfied: tzdata>=2022.7 in /usr/local/lib/python3.12/dist-packages (from pandas>=1.3.2->pysradb) (2025.2)\n",
            "Requirement already satisfied: charset_normalizer<4,>=2 in /usr/local/lib/python3.12/dist-packages (from requests>=2.26.0->pysradb) (3.4.3)\n",
            "Requirement already satisfied: idna<4,>=2.5 in /usr/local/lib/python3.12/dist-packages (from requests>=2.26.0->pysradb) (3.10)\n",
            "Requirement already satisfied: urllib3<3,>=1.21.1 in /usr/local/lib/python3.12/dist-packages (from requests>=2.26.0->pysradb) (2.5.0)\n",
            "Requirement already satisfied: certifi>=2017.4.17 in /usr/local/lib/python3.12/dist-packages (from requests>=2.26.0->pysradb) (2025.8.3)\n",
            "Requirement already satisfied: six>=1.5 in /usr/local/lib/python3.12/dist-packages (from python-dateutil>=2.8.2->pandas>=1.3.2->pysradb) (1.17.0)\n",
            "Downloading pysradb-2.4.1-py3-none-any.whl (176 kB)\n",
            "\u001b[2K   \u001b[90m━━━━━━━━━━━━━━━━━━━━━━━━━━━━━━━━━━━━━━━━\u001b[0m \u001b[32m177.0/177.0 kB\u001b[0m \u001b[31m3.6 MB/s\u001b[0m eta \u001b[36m0:00:00\u001b[0m\n",
            "\u001b[?25hDownloading xmltodict-1.0.2-py3-none-any.whl (13 kB)\n",
            "Installing collected packages: xmltodict, pysradb\n",
            "Successfully installed pysradb-2.4.1 xmltodict-1.0.2\n"
          ]
        }
      ],
      "source": [
        "pip install pysradb"
      ]
    },
    {
      "cell_type": "code",
      "execution_count": null,
      "metadata": {
        "colab": {
          "base_uri": "https://localhost:8080/"
        },
        "collapsed": true,
        "id": "a4bf858d",
        "outputId": "da3e9059-0c79-4563-d408-98e3c527188f"
      },
      "outputs": [
        {
          "name": "stdout",
          "output_type": "stream",
          "text": [
            "Get:1 http://security.ubuntu.com/ubuntu jammy-security InRelease [129 kB]\n",
            "Get:2 https://cloud.r-project.org/bin/linux/ubuntu jammy-cran40/ InRelease [3,632 B]\n",
            "Get:3 https://cli.github.com/packages stable InRelease [3,917 B]\n",
            "Get:4 https://developer.download.nvidia.com/compute/cuda/repos/ubuntu2204/x86_64  InRelease [1,581 B]\n",
            "Hit:5 http://archive.ubuntu.com/ubuntu jammy InRelease\n",
            "Get:6 https://r2u.stat.illinois.edu/ubuntu jammy InRelease [6,555 B]\n",
            "Get:7 http://archive.ubuntu.com/ubuntu jammy-updates InRelease [128 kB]\n",
            "Get:8 http://security.ubuntu.com/ubuntu jammy-security/main amd64 Packages [3,412 kB]\n",
            "Get:9 http://security.ubuntu.com/ubuntu jammy-security/universe amd64 Packages [1,275 kB]\n",
            "Get:10 http://security.ubuntu.com/ubuntu jammy-security/restricted amd64 Packages [5,712 kB]\n",
            "Get:11 https://ppa.launchpadcontent.net/deadsnakes/ppa/ubuntu jammy InRelease [18.1 kB]\n",
            "Get:12 http://archive.ubuntu.com/ubuntu jammy-backports InRelease [127 kB]\n",
            "Hit:13 https://ppa.launchpadcontent.net/graphics-drivers/ppa/ubuntu jammy InRelease\n",
            "Get:14 https://cli.github.com/packages stable/main amd64 Packages [347 B]\n",
            "Hit:15 https://ppa.launchpadcontent.net/ubuntugis/ppa/ubuntu jammy InRelease\n",
            "Get:16 https://r2u.stat.illinois.edu/ubuntu jammy/main all Packages [9,327 kB]\n",
            "Get:17 http://archive.ubuntu.com/ubuntu jammy-updates/universe amd64 Packages [1,580 kB]\n",
            "Get:18 https://r2u.stat.illinois.edu/ubuntu jammy/main amd64 Packages [2,809 kB]\n",
            "Get:19 http://archive.ubuntu.com/ubuntu jammy-updates/restricted amd64 Packages [5,907 kB]\n",
            "Get:20 https://ppa.launchpadcontent.net/deadsnakes/ppa/ubuntu jammy/main amd64 Packages [32.9 kB]\n",
            "Get:21 http://archive.ubuntu.com/ubuntu jammy-updates/main amd64 Packages [3,738 kB]\n",
            "Get:22 http://archive.ubuntu.com/ubuntu jammy-backports/main amd64 Packages [83.9 kB]\n",
            "Get:23 http://archive.ubuntu.com/ubuntu jammy-backports/universe amd64 Packages [35.2 kB]\n",
            "Fetched 34.3 MB in 7s (4,735 kB/s)\n",
            "Reading package lists...\n",
            "Reading package lists...\n",
            "Building dependency tree...\n",
            "Reading state information...\n",
            "The following additional packages will be installed:\n",
            "  blends-common libkdf5-2 libncbi-vdb2 libncbi-wvdb2 med-config menu\n",
            "Suggested packages:\n",
            "  blends-doc menu-l10n gksu | kde-runtime | ktsuss\n",
            "The following NEW packages will be installed:\n",
            "  blends-common libkdf5-2 libncbi-vdb2 libncbi-wvdb2 med-config menu\n",
            "  sra-toolkit\n",
            "0 upgraded, 7 newly installed, 0 to remove and 41 not upgraded.\n",
            "Need to get 8,290 kB of archives.\n",
            "After this operation, 23.0 MB of additional disk space will be used.\n",
            "Get:1 http://archive.ubuntu.com/ubuntu jammy/universe amd64 menu amd64 2.1.47ubuntu4 [354 kB]\n",
            "Get:2 http://archive.ubuntu.com/ubuntu jammy/universe amd64 blends-common all 0.7.4ubuntu1 [15.9 kB]\n",
            "Get:3 http://archive.ubuntu.com/ubuntu jammy/universe amd64 libkdf5-2 amd64 2.11.2+dfsg-4build2 [14.7 kB]\n",
            "Get:4 http://archive.ubuntu.com/ubuntu jammy/universe amd64 libncbi-vdb2 amd64 2.11.2+dfsg-4build2 [1,364 kB]\n",
            "Get:5 http://archive.ubuntu.com/ubuntu jammy/universe amd64 libncbi-wvdb2 amd64 2.11.2+dfsg-4build2 [1,252 kB]\n",
            "Get:6 http://archive.ubuntu.com/ubuntu jammy/universe amd64 sra-toolkit amd64 2.11.3+dfsg-1ubuntu1 [5,277 kB]\n",
            "Get:7 http://archive.ubuntu.com/ubuntu jammy/universe amd64 med-config all 3.7.1 [11.6 kB]\n",
            "Preconfiguring packages ...\n",
            "Fetched 8,290 kB in 1s (6,518 kB/s)\n",
            "Selecting previously unselected package menu.\r\n",
            "(Reading database ... \r(Reading database ... 5%\r(Reading database ... 10%\r(Reading database ... 15%\r(Reading database ... 20%\r(Reading database ... 25%\r(Reading database ... 30%\r(Reading database ... 35%\r(Reading database ... 40%\r(Reading database ... 45%\r(Reading database ... 50%\r(Reading database ... 55%\r(Reading database ... 60%\r(Reading database ... 65%\r(Reading database ... 70%\r(Reading database ... 75%\r(Reading database ... 80%\r(Reading database ... 85%\r(Reading database ... 90%\r(Reading database ... 95%\r(Reading database ... 100%\r(Reading database ... 126666 files and directories currently installed.)\r\n",
            "Preparing to unpack .../0-menu_2.1.47ubuntu4_amd64.deb ...\r\n",
            "Unpacking menu (2.1.47ubuntu4) ...\r\n",
            "Selecting previously unselected package blends-common.\r\n",
            "Preparing to unpack .../1-blends-common_0.7.4ubuntu1_all.deb ...\r\n",
            "Unpacking blends-common (0.7.4ubuntu1) ...\r\n",
            "Selecting previously unselected package libkdf5-2.\r\n",
            "Preparing to unpack .../2-libkdf5-2_2.11.2+dfsg-4build2_amd64.deb ...\r\n",
            "Unpacking libkdf5-2 (2.11.2+dfsg-4build2) ...\r\n",
            "Selecting previously unselected package libncbi-vdb2.\r\n",
            "Preparing to unpack .../3-libncbi-vdb2_2.11.2+dfsg-4build2_amd64.deb ...\r\n",
            "Unpacking libncbi-vdb2 (2.11.2+dfsg-4build2) ...\r\n",
            "Selecting previously unselected package libncbi-wvdb2.\r\n",
            "Preparing to unpack .../4-libncbi-wvdb2_2.11.2+dfsg-4build2_amd64.deb ...\r\n",
            "Unpacking libncbi-wvdb2 (2.11.2+dfsg-4build2) ...\r\n",
            "Selecting previously unselected package sra-toolkit.\r\n",
            "Preparing to unpack .../5-sra-toolkit_2.11.3+dfsg-1ubuntu1_amd64.deb ...\r\n",
            "Unpacking sra-toolkit (2.11.3+dfsg-1ubuntu1) ...\r\n",
            "Selecting previously unselected package med-config.\r\n",
            "Preparing to unpack .../6-med-config_3.7.1_all.deb ...\r\n",
            "Unpacking med-config (3.7.1) ...\r\n",
            "Setting up libncbi-vdb2 (2.11.2+dfsg-4build2) ...\r\n",
            "Setting up libkdf5-2 (2.11.2+dfsg-4build2) ...\r\n",
            "Setting up libncbi-wvdb2 (2.11.2+dfsg-4build2) ...\r\n",
            "Setting up menu (2.1.47ubuntu4) ...\r\n",
            "Setting up blends-common (0.7.4ubuntu1) ...\r\n",
            "Setting up sra-toolkit (2.11.3+dfsg-1ubuntu1) ...\r\n",
            "Setting up med-config (3.7.1) ...\r\n",
            "Adding group `med' (GID 107) ...\r\n",
            "Done.\r\n",
            "Processing triggers for man-db (2.10.2-1) ...\r\n",
            "Processing triggers for libc-bin (2.35-0ubuntu3.8) ...\r\n",
            "/sbin/ldconfig.real: /usr/local/lib/libtcm.so.1 is not a symbolic link\r\n",
            "\r\n",
            "/sbin/ldconfig.real: /usr/local/lib/libur_loader.so.0 is not a symbolic link\r\n",
            "\r\n",
            "/sbin/ldconfig.real: /usr/local/lib/libtbbmalloc_proxy.so.2 is not a symbolic link\r\n",
            "\r\n",
            "/sbin/ldconfig.real: /usr/local/lib/libumf.so.0 is not a symbolic link\r\n",
            "\r\n",
            "/sbin/ldconfig.real: /usr/local/lib/libtbbbind_2_0.so.3 is not a symbolic link\r\n",
            "\r\n",
            "/sbin/ldconfig.real: /usr/local/lib/libhwloc.so.15 is not a symbolic link\r\n",
            "\r\n",
            "/sbin/ldconfig.real: /usr/local/lib/libtcm_debug.so.1 is not a symbolic link\r\n",
            "\r\n",
            "/sbin/ldconfig.real: /usr/local/lib/libtbb.so.12 is not a symbolic link\r\n",
            "\r\n",
            "/sbin/ldconfig.real: /usr/local/lib/libtbbbind.so.3 is not a symbolic link\r\n",
            "\r\n",
            "/sbin/ldconfig.real: /usr/local/lib/libur_adapter_opencl.so.0 is not a symbolic link\r\n",
            "\r\n",
            "/sbin/ldconfig.real: /usr/local/lib/libtbbbind_2_5.so.3 is not a symbolic link\r\n",
            "\r\n",
            "/sbin/ldconfig.real: /usr/local/lib/libur_adapter_level_zero_v2.so.0 is not a symbolic link\r\n",
            "\r\n",
            "/sbin/ldconfig.real: /usr/local/lib/libur_adapter_level_zero.so.0 is not a symbolic link\r\n",
            "\r\n",
            "/sbin/ldconfig.real: /usr/local/lib/libtbbmalloc.so.2 is not a symbolic link\r\n",
            "\r\n",
            "Processing triggers for menu (2.1.47ubuntu4) ...\r\n"
          ]
        },
        {
          "name": "stderr",
          "output_type": "stream",
          "text": [
            "W: Skipping acquire of configured file 'main/source/Sources' as repository 'https://r2u.stat.illinois.edu/ubuntu jammy InRelease' does not seem to provide it (sources.list entry misspelt?)\n"
          ]
        }
      ],
      "source": [
        "%%bash\n",
        "apt-get update && apt-get install -y sra-toolkit"
      ]
    },
    {
      "cell_type": "code",
      "execution_count": null,
      "metadata": {
        "colab": {
          "base_uri": "https://localhost:8080/"
        },
        "id": "ALoOfGmUzKVc",
        "outputId": "4be68258-cb94-4983-b8da-d4ae72f8eeed"
      },
      "outputs": [
        {
          "name": "stderr",
          "output_type": "stream",
          "text": [
            "/usr/local/lib/python3.12/dist-packages/pysradb/utils.py:14: TqdmExperimentalWarning: Using `tqdm.autonotebook.tqdm` in notebook mode. Use `tqdm.tqdm` instead to force console mode (e.g. in jupyter console)\n",
            "  from tqdm.autonotebook import tqdm\n"
          ]
        }
      ],
      "source": [
        "from pysradb.sraweb import SRAweb\n",
        "import subprocess\n",
        "from pathlib import Path\n",
        "\n"
      ]
    },
    {
      "cell_type": "code",
      "execution_count": null,
      "metadata": {
        "colab": {
          "background_save": true,
          "base_uri": "https://localhost:8080/"
        },
        "id": "YY2Q-SXTiK4f",
        "outputId": "42b70255-39fb-4617-8cb0-fbc8fd2d5429"
      },
      "outputs": [
        {
          "name": "stdout",
          "output_type": "stream",
          "text": [
            "found 32 run_accessions (SRR). Number of no found: 1\n",
            "downlading FASTQ for ERR15462220 ...\n",
            "downlading FASTQ for ERR15462221 ...\n"
          ]
        },
        {
          "data": {
            "application/vnd.google.colaboratory.intrinsic+json": {
              "type": "string"
            },
            "text/plain": [
              "\"\\n\\n\\n  Błąd przy pobieraniu dla PRJEB76988: 'NoneType' object is not subscriptable\\nPobieranie run_accessions dla PRJEB76987 ...\\nNo results found for PRJEB76987\\n  Błąd przy pobieraniu dla PRJEB76987: 'NoneType' object is not subscriptable\\nPobieranie run_accessions dla PRJEB76938 ...\\nNo results found for PRJEB76938\\n  Błąd przy pobieraniu dla PRJEB76938: 'NoneType' object is not subscriptable\\nPobieranie run_accessions dla PRJNA1131664 ...\\n  Znaleziono 15 SRR\\nPobieranie run_accessions dla PRJNA1130109 ...\\n  Znaleziono 203 SRR\\nPobieranie run_accessions dla PRJEB72433 ...\\n  Znalezio\\n\\n\\n  \""
            ]
          },
          "execution_count": 20,
          "metadata": {},
          "output_type": "execute_result"
        }
      ],
      "source": [
        "from pysradb.sraweb import SRAweb\n",
        "import subprocess\n",
        "from pathlib import Path\n",
        "\n",
        "\n",
        "fastq_dir = Path(\"fastq\")\n",
        "fastq_dir.mkdir(exist_ok=True)\n",
        "\n",
        "\n",
        "db = SRAweb()\n",
        "\n",
        "all_runs = []\n",
        "runs_no_found = 0\n",
        "# test for smaller amount of data\n",
        "test_bio_projects = bio_projects_accessions[:2]\n",
        "\n",
        "for study in test_bio_projects:\n",
        "\n",
        "    try:\n",
        "        df = db.sra_metadata(study, detailed=True)\n",
        "\n",
        "        runs = df[\"run_accession\"].unique().tolist()\n",
        "        all_runs.extend(runs)\n",
        "\n",
        "    except Exception as e:\n",
        "        runs_no_found+=1\n",
        "\n",
        "\n",
        "print(f\"found {len(all_runs)} run_accessions (SRR). Number of no found: {runs_no_found}\")\n",
        "\n",
        "\n",
        "all_runs = all_runs[:2]\n",
        "for run in all_runs:\n",
        "    print(f\"downlading FASTQ for {run} ...\")\n",
        "\n",
        "    subprocess.run([\n",
        "        \"fasterq-dump\",\n",
        "        run,\n",
        "        \"-O\", str(fastq_dir),\n",
        "        \"--split-files\",\n",
        "        \"--threads\", \"4\"\n",
        "    ])\n"
      ]
    },
    {
      "cell_type": "code",
      "execution_count": null,
      "metadata": {
        "id": "oYDGjy8DcKmq"
      },
      "outputs": [],
      "source": [
        "from pysradb.sraweb import SRAweb\n",
        "import subprocess\n",
        "from pathlib import Path\n",
        "\n",
        "\n",
        "fastq_dir = Path(\"fastq\")\n",
        "fastq_dir.mkdir(exist_ok=True)\n",
        "\n",
        "\n",
        "db = SRAweb()\n",
        "\n",
        "all_runs = []\n",
        "runs_no_found = 0\n",
        "for study in bio_projects_accessions:\n",
        "\n",
        "    try:\n",
        "        df = db.sra_metadata(study, detailed=True)\n",
        "        runs = df[\"run_accession\"].unique().tolist()\n",
        "        all_runs.extend(runs)\n",
        "    except Exception as e:\n",
        "        runs_no_found+=1\n",
        "\n",
        "print(f\"found {len(all_runs)} run_accessions (SRR).and no found{runs_no_found}\")\n",
        "\n",
        "\n",
        "for run in all_runs:\n",
        "    print(f\"downlading FASTQ for {run} ...\")\n",
        "\n",
        "    subprocess.run([\n",
        "        \"fasterq-dump\",\n",
        "        run,\n",
        "        \"-O\", str(fastq_dir),\n",
        "        \"--split-files\",\n",
        "        \"--threads\", \"4\"\n",
        "    ])\n"
      ]
    }
  ],
  "metadata": {
    "colab": {
      "provenance": []
    },
    "kernelspec": {
      "display_name": "Python 3",
      "name": "python3"
    },
    "language_info": {
      "name": "python"
    }
  },
  "nbformat": 4,
  "nbformat_minor": 0
}