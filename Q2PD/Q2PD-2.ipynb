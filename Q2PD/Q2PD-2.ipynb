{
  "cells": [
    {
      "cell_type": "markdown",
      "metadata": {
        "id": "mdlxBcyKihF-"
      },
      "source": [
        "# Q2PD\n",
        "\n"
      ]
    },
    {
      "cell_type": "code",
      "source": [
        "import pandas as pd"
      ],
      "metadata": {
        "id": "rJngRLWLXBzI"
      },
      "execution_count": null,
      "outputs": []
    },
    {
      "cell_type": "markdown",
      "metadata": {
        "id": "qT2OoS8FmHai"
      },
      "source": [
        "train dataset - healthy from Human Microbiome Project 2 (HMP2), IBS"
      ]
    },
    {
      "cell_type": "code",
      "execution_count": null,
      "metadata": {
        "id": "BPiPJ3LDrH3u"
      },
      "outputs": [],
      "source": [
        "q2pd_train_study = [\"PRJNA398089\"]"
      ]
    },
    {
      "cell_type": "markdown",
      "metadata": {
        "id": "xqSXure2tAH_"
      },
      "source": [
        "validation cohorts IBD"
      ]
    },
    {
      "cell_type": "code",
      "execution_count": null,
      "metadata": {
        "id": "mUy9Gzt1tCFH"
      },
      "outputs": [],
      "source": [
        "q2pd_validation_study = [\"PRJNA389280\", \"PRJEB1220\"]"
      ]
    },
    {
      "cell_type": "markdown",
      "metadata": {
        "id": "LVrQum8W2S0M"
      },
      "source": [
        "further training - \"For the model training, validation, and subsequent testing, we used taxonomic and functional profiles from the curated Metagenomics database to ensure consistency and reproducibility\" (30 cohorts)"
      ]
    },
    {
      "cell_type": "code",
      "execution_count": null,
      "metadata": {
        "id": "RJNdMrvG2VIW",
        "colab": {
          "base_uri": "https://localhost:8080/"
        },
        "outputId": "fd0b8ff1-3018-4cd2-8857-cfa26f4ca5a8"
      },
      "outputs": [
        {
          "output_type": "execute_result",
          "data": {
            "text/plain": [
              "['BedarfJR_2017',\n",
              " 'DavidLA_2015',\n",
              " 'FengQ_2015',\n",
              " 'GuptaA_2019',\n",
              " 'HMP2_IBD',\n",
              " 'HMP_2019_t2d',\n",
              " 'HallAB_2017',\n",
              " 'HanniganGD_2017',\n",
              " 'IaniroG_2022',\n",
              " 'JieZ_2017',\n",
              " 'KarlssonFH_2013',\n",
              " 'LiSS_2016',\n",
              " 'MetaCardis_2020_a',\n",
              " 'NagySzakalD_2017',\n",
              " 'NielsenHB_2014',\n",
              " 'QinJ_2012',\n",
              " 'QinN_2014',\n",
              " 'RosaBA_2018',\n",
              " 'RubelMA_2020',\n",
              " 'SankaranarayananK_2015',\n",
              " 'ThomasAM_2018a',\n",
              " 'ThomasAM_2018b',\n",
              " 'ThomasAM_2019_c',\n",
              " 'VogtmannE_2016',\n",
              " 'WirbelJ_2018',\n",
              " 'YachidaS_2019',\n",
              " 'YeZ_2018',\n",
              " 'YuJ_2015',\n",
              " 'ZellerG_2014',\n",
              " 'ZhuF_2020']"
            ]
          },
          "metadata": {},
          "execution_count": 4
        }
      ],
      "source": [
        "with open(\"merged_metadata_diseases_matching.txt\") as f:\n",
        "    cohorts = {line.strip().split('\\t')[0] for line in f}\n",
        "\n",
        "\n",
        "q2pd_further_train_cohorts = []\n",
        "\n",
        "for d in sorted(cohorts):\n",
        "    q2pd_further_train_cohorts.append(d)\n",
        "\n",
        "q2pd_further_train_cohorts"
      ]
    },
    {
      "cell_type": "markdown",
      "metadata": {
        "id": "SsGw4ktwmUIj"
      },
      "source": [
        "test detaset"
      ]
    },
    {
      "cell_type": "code",
      "execution_count": null,
      "metadata": {
        "id": "vD8uDhUCtQdI"
      },
      "outputs": [],
      "source": [
        "q2pd_test_study = [\"PRJEB64515\"]"
      ]
    },
    {
      "cell_type": "markdown",
      "metadata": {
        "id": "zgPI9iT8Q0AL"
      },
      "source": [
        "diseases"
      ]
    },
    {
      "cell_type": "code",
      "source": [
        "with open(\"merged_metadata_diseases_matching.txt\") as f:\n",
        "    disease = {line.strip().split('\\t')[1] for line in f}\n",
        "\n",
        "\n",
        "diseases = []\n",
        "\n",
        "for d in sorted(disease):\n",
        "    diseases.append(d)\n",
        "\n",
        "# covid from test dataset PRJEB64515\n",
        "\n",
        "diseases.append(\"COVID-19\")\n",
        "\n",
        "diseases\n"
      ],
      "metadata": {
        "id": "4_ttXa9QeJwq",
        "colab": {
          "base_uri": "https://localhost:8080/"
        },
        "outputId": "71de28b6-c1ec-46a1-fe27-6081c86817ed"
      },
      "execution_count": null,
      "outputs": [
        {
          "output_type": "execute_result",
          "data": {
            "text/plain": [
              "['ACVD',\n",
              " 'BD',\n",
              " 'CRC',\n",
              " 'IBD',\n",
              " 'PD',\n",
              " 'T2D',\n",
              " 'acute-diarrhoea',\n",
              " 'chronic-fatigue',\n",
              " 'cirrhosis',\n",
              " 'fmt',\n",
              " 'infection',\n",
              " 'metabolic',\n",
              " 'mix',\n",
              " 'schizophrenia',\n",
              " 'COVID-19']"
            ]
          },
          "metadata": {},
          "execution_count": 6
        }
      ]
    },
    {
      "cell_type": "markdown",
      "source": [
        "summary - csv"
      ],
      "metadata": {
        "id": "q9VsPiYzlLka"
      }
    },
    {
      "cell_type": "code",
      "source": [
        "summary_dict = {\n",
        "    \"Unique Phenotypes\": \", \".join(diseases),\n",
        "    \"Unique Cohorts\": \", \".join(q2pd_further_train_cohorts),\n",
        "    \"Country\": \"Lack of information\",\n",
        "    \"Age\": \"Adults\"\n",
        "}\n",
        "\n",
        "summary_df = pd.DataFrame([summary_dict])\n",
        "\n",
        "summary_df.to_csv(\"q2pd_summary_train.csv\", index=False)"
      ],
      "metadata": {
        "id": "Y8cAkTn3BggD"
      },
      "execution_count": null,
      "outputs": []
    }
  ],
  "metadata": {
    "colab": {
      "provenance": []
    },
    "kernelspec": {
      "display_name": "Python 3",
      "name": "python3"
    },
    "language_info": {
      "name": "python"
    }
  },
  "nbformat": 4,
  "nbformat_minor": 0
}