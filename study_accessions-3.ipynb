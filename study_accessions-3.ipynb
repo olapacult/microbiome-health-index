{
  "nbformat": 4,
  "nbformat_minor": 0,
  "metadata": {
    "colab": {
      "provenance": []
    },
    "kernelspec": {
      "name": "python3",
      "display_name": "Python 3"
    },
    "language_info": {
      "name": "python"
    }
  },
  "cells": [
    {
      "cell_type": "markdown",
      "source": [
        "# Extraction of all study_accessions"
      ],
      "metadata": {
        "id": "hLWKcx5zaEw3"
      }
    },
    {
      "cell_type": "code",
      "source": [
        "import pandas as pd"
      ],
      "metadata": {
        "id": "ll8gI3p1aDS_"
      },
      "execution_count": 63,
      "outputs": []
    },
    {
      "cell_type": "markdown",
      "source": [
        "# GMHI"
      ],
      "metadata": {
        "id": "CGTJYqBWYlB2"
      }
    },
    {
      "cell_type": "markdown",
      "source": [
        "## train dataset"
      ],
      "metadata": {
        "id": "EvjeuQ4gsGi3"
      }
    },
    {
      "cell_type": "code",
      "source": [
        "gmhi_train_df = pd.read_excel(\"gmhi1.xlsx\")\n",
        "gmhi_train_study_accessions = gmhi_train_df[\"Study Accession\"].dropna().unique().tolist()"
      ],
      "metadata": {
        "id": "gI_WgcrlfJFC",
        "colab": {
          "base_uri": "https://localhost:8080/"
        },
        "outputId": "aa86c764-d91e-47a1-80a2-7de1855eec99"
      },
      "execution_count": 64,
      "outputs": [
        {
          "output_type": "stream",
          "name": "stderr",
          "text": [
            "/usr/local/lib/python3.12/dist-packages/openpyxl/styles/stylesheet.py:237: UserWarning: Workbook contains no default style, apply openpyxl's default\n",
            "  warn(\"Workbook contains no default style, apply openpyxl's default\")\n"
          ]
        }
      ]
    },
    {
      "cell_type": "markdown",
      "source": [
        "## validation dataset"
      ],
      "metadata": {
        "id": "mJug2KnTsS0t"
      }
    },
    {
      "cell_type": "code",
      "source": [
        "gmhi_val_df = pd.read_excel(\"gmhi4.xlsx\")\n",
        "gmhi_val_study_accessions = gmhi_val_df[\"Study Accession\"].dropna().unique().tolist()"
      ],
      "metadata": {
        "colab": {
          "base_uri": "https://localhost:8080/"
        },
        "id": "WPKh_RmpaDB5",
        "outputId": "251d45ee-998d-4ac2-cc3b-cbd2a7bc00b6"
      },
      "execution_count": 65,
      "outputs": [
        {
          "output_type": "stream",
          "name": "stderr",
          "text": [
            "/usr/local/lib/python3.12/dist-packages/openpyxl/styles/stylesheet.py:237: UserWarning: Workbook contains no default style, apply openpyxl's default\n",
            "  warn(\"Workbook contains no default style, apply openpyxl's default\")\n"
          ]
        }
      ]
    },
    {
      "cell_type": "markdown",
      "source": [
        "# hiPCA"
      ],
      "metadata": {
        "id": "f2aZa1AwZTlI"
      }
    },
    {
      "cell_type": "code",
      "source": [
        "metadata_hipca = 'hipca1.xlsx'\n",
        "hipca_train_df = pd.read_excel(metadata_hipca, sheet_name='Discovery dataset',header=None)\n",
        "hipca_train_df = hipca_train_df.T\n",
        "hipca_train_df.reset_index(drop=True, inplace=True)\n",
        "hipca_train_df.columns = hipca_train_df.iloc[0]\n",
        "hipca_train_df = hipca_train_df.iloc[1:].reset_index(drop=True)"
      ],
      "metadata": {
        "id": "oR8wypIlZpOl"
      },
      "execution_count": 66,
      "outputs": []
    },
    {
      "cell_type": "markdown",
      "source": [
        "## Discovery dataset - hipca_train"
      ],
      "metadata": {
        "id": "l-oYv03RYvZl"
      }
    },
    {
      "cell_type": "code",
      "source": [
        "hipca_train_df = pd.read_excel(metadata_hipca, sheet_name='Discovery dataset',header=None)\n",
        "hipca_train_df = hipca_train_df.T\n",
        "hipca_train_df.reset_index(drop=True, inplace=True)\n",
        "hipca_train_df.columns = hipca_train_df.iloc[0]\n",
        "hipca_train_df = hipca_train_df.iloc[1:].reset_index(drop=True)\n",
        "hipca_train_study_accessions = hipca_train_df['Study Accession'].dropna().unique().tolist()"
      ],
      "metadata": {
        "collapsed": true,
        "id": "0ebG07bpY639"
      },
      "execution_count": 67,
      "outputs": []
    },
    {
      "cell_type": "markdown",
      "source": [
        "## Validation dataset - hipca_val"
      ],
      "metadata": {
        "id": "42Mb742la1Af"
      }
    },
    {
      "cell_type": "code",
      "source": [
        "hipca_val_df = pd.read_excel(metadata_hipca, sheet_name='Validation dataset',header=None)\n",
        "hipca_val_df = hipca_val_df.T\n",
        "hipca_val_df.columns = hipca_val_df.iloc[0]\n",
        "hipca_val_df.reset_index(drop=True, inplace=True)\n",
        "hipca_val_df = hipca_val_df.iloc[1:].reset_index(drop=True)\n",
        "hipca_val_study_accessions = hipca_val_df['Sample Accession or Sample ID'].dropna().unique().tolist()"
      ],
      "metadata": {
        "collapsed": true,
        "id": "gSHMC8vAawGo"
      },
      "execution_count": 68,
      "outputs": []
    },
    {
      "cell_type": "markdown",
      "source": [
        "## Test dataset - hipca_test"
      ],
      "metadata": {
        "id": "FvjCUcnXblYV"
      }
    },
    {
      "cell_type": "code",
      "source": [
        "hipca_test = pd.read_excel(metadata_hipca, sheet_name='Test dataset',header=None)\n",
        "hipca_test = hipca_test.T\n",
        "hipca_test.columns = hipca_test.iloc[0]\n",
        "hipca_test = hipca_test.iloc[1:].reset_index(drop=True)\n",
        "hipca_test_study_accessions = hipca_test['study_accession'].dropna().unique().tolist()"
      ],
      "metadata": {
        "collapsed": true,
        "id": "blX7Rx5kbo7s"
      },
      "execution_count": 69,
      "outputs": []
    },
    {
      "cell_type": "markdown",
      "source": [
        "# GMWI2"
      ],
      "metadata": {
        "id": "Nu3LG5-9ZIAo"
      }
    },
    {
      "cell_type": "markdown",
      "source": [
        "## train dataset"
      ],
      "metadata": {
        "id": "o6OyyEm8Dlol"
      }
    },
    {
      "cell_type": "code",
      "source": [
        "gmwi2_train = pd.read_excel(\"gmwi2.xlsx\")\n",
        "gmwi2_train_study_accessions = gmwi2_train[\"BioProjectID\"].dropna().unique().tolist()"
      ],
      "metadata": {
        "id": "Xg5gkPYSZQ8Q",
        "colab": {
          "base_uri": "https://localhost:8080/"
        },
        "collapsed": true,
        "outputId": "cd321170-9735-4959-f0f0-7266c9d022a5"
      },
      "execution_count": 70,
      "outputs": [
        {
          "output_type": "stream",
          "name": "stderr",
          "text": [
            "/usr/local/lib/python3.12/dist-packages/openpyxl/styles/stylesheet.py:237: UserWarning: Workbook contains no default style, apply openpyxl's default\n",
            "  warn(\"Workbook contains no default style, apply openpyxl's default\")\n"
          ]
        }
      ]
    },
    {
      "cell_type": "markdown",
      "source": [
        "## validaton dataset"
      ],
      "metadata": {
        "id": "93wzzSGRDn_v"
      }
    },
    {
      "cell_type": "code",
      "source": [
        "gmwi2_val = pd.read_excel(\"gmwi7.xlsx\")\n",
        "gmwi2_val_study_accessions = gmwi2_val[\"BioProjectID\"].dropna().unique().tolist()"
      ],
      "metadata": {
        "id": "Cimhh4JarIPi",
        "colab": {
          "base_uri": "https://localhost:8080/"
        },
        "outputId": "37f34b9b-193d-4ce4-ecce-6bb33f3a69cb"
      },
      "execution_count": 71,
      "outputs": [
        {
          "output_type": "stream",
          "name": "stderr",
          "text": [
            "/usr/local/lib/python3.12/dist-packages/openpyxl/styles/stylesheet.py:237: UserWarning: Workbook contains no default style, apply openpyxl's default\n",
            "  warn(\"Workbook contains no default style, apply openpyxl's default\")\n"
          ]
        }
      ]
    },
    {
      "cell_type": "markdown",
      "source": [
        "# Q2PD"
      ],
      "metadata": {
        "id": "lJhE5NM5s5Qz"
      }
    },
    {
      "cell_type": "markdown",
      "source": [
        "## train dataset"
      ],
      "metadata": {
        "id": "_xaDO34MCXIs"
      }
    },
    {
      "cell_type": "code",
      "source": [
        "q2pd_train_study_accessions = [\"PRJNA398089\"]"
      ],
      "metadata": {
        "id": "OICyP7oU6jqU"
      },
      "execution_count": 72,
      "outputs": []
    },
    {
      "cell_type": "markdown",
      "source": [
        "## validation dataset"
      ],
      "metadata": {
        "id": "QRhYpoh4Cii7"
      }
    },
    {
      "cell_type": "code",
      "source": [
        "q2pd_validation_study_accessions = [\"PRJNA389280\", \"PRJEB1220\"]"
      ],
      "metadata": {
        "id": "cVLC1iLRCmLn"
      },
      "execution_count": 73,
      "outputs": []
    },
    {
      "cell_type": "markdown",
      "source": [
        "## test dataset"
      ],
      "metadata": {
        "id": "YzhY8KlwCuEV"
      }
    },
    {
      "cell_type": "code",
      "source": [
        "q2pd_test_study_accessions = [\"PRJEB64515\"]"
      ],
      "metadata": {
        "id": "KJd9JhVnCv4f"
      },
      "execution_count": 74,
      "outputs": []
    },
    {
      "cell_type": "markdown",
      "source": [
        "# summary"
      ],
      "metadata": {
        "id": "mEkxJ-y06hRf"
      }
    },
    {
      "cell_type": "markdown",
      "source": [
        "Check whether there are repeated studies accessions within a single health index across training, validation, and test sets, as well as between different heath indexes."
      ],
      "metadata": {
        "id": "x_Y-z3MctB6o"
      }
    },
    {
      "cell_type": "code",
      "source": [
        "import csv\n",
        "\n",
        "lista = [gmhi_train_study_accessions, gmhi_val_study_accessions, hipca_train_study_accessions, hipca_test_study_accessions, gmwi2_train_study_accessions, gmwi2_val_study_accessions, q2pd_train_study_accessions, q2pd_validation_study_accessions, q2pd_test_study_accessions ]\n",
        "\n",
        "names = ['gmhi_train', 'gmhi_val', 'hipca_train', 'hipca_test', 'gmwi2_train', 'gmwi2_val','q2pd_train', 'q2pd_val', 'q2pd_test' ]\n",
        "\n",
        "file_path = 'common_study_accessions.csv'\n",
        "\n",
        "with open(file_path, 'w') as file:\n",
        "  wirter = csv.writer(file)\n",
        "  columns = 'health indexes','common study accessions','number of common study accessions'\n",
        "  wirter.writerow(columns)\n",
        "  for i in range(len(lista)):\n",
        "    for j in range(i+1, len(lista)):\n",
        "        common_study_accessions = list(set(lista[i]) & set(lista[j]))\n",
        "        if len(common_study_accessions) == 0:\n",
        "          row = f'{names[i]} vs {names[j]}', 'None', f'{len(common_study_accessions)}'\n",
        "        else:\n",
        "          row = f'{names[i]} vs {names[j]}', f'{common_study_accessions}', f'{len(common_study_accessions)}'\n",
        "        wirter.writerow(row)\n"
      ],
      "metadata": {
        "id": "5wwfDN7ds9DD"
      },
      "execution_count": 75,
      "outputs": []
    },
    {
      "cell_type": "markdown",
      "source": [
        "number of repeated study accessions"
      ],
      "metadata": {
        "id": "tc9Q67ZTDOGN"
      }
    },
    {
      "cell_type": "code",
      "source": [
        "all_study_accessions = gmhi_train_study_accessions + gmhi_val_study_accessions + hipca_train_study_accessions + hipca_test_study_accessions + gmwi2_train_study_accessions + gmwi2_val_study_accessions\n",
        "number_of_repeated_study_accessions = len(all_study_accessions) - len(set(all_study_accessions))\n",
        "print(number_of_repeated_study_accessions)"
      ],
      "metadata": {
        "id": "lys8DQ5jtg5R",
        "colab": {
          "base_uri": "https://localhost:8080/"
        },
        "outputId": "bc40dd47-f928-469b-8506-82e820d1216e"
      },
      "execution_count": 76,
      "outputs": [
        {
          "output_type": "stream",
          "name": "stdout",
          "text": [
            "63\n"
          ]
        }
      ]
    },
    {
      "cell_type": "code",
      "source": [
        "from collections import Counter\n",
        "\n",
        "counts = Counter(all_study_accessions)\n",
        "repeated_study_accessions = [study_accession for study_accession, count in counts.items() if count > 1]\n",
        "print(repeated_study_accessions)\n"
      ],
      "metadata": {
        "colab": {
          "base_uri": "https://localhost:8080/"
        },
        "id": "tB4XCDfBSHKd",
        "outputId": "ea8bdcb7-c3f4-434a-a547-86aa7649dafc"
      },
      "execution_count": 77,
      "outputs": [
        {
          "output_type": "stream",
          "name": "stdout",
          "text": [
            "['PRJEB21528', 'PRJEB7774', 'PRJEB6070', 'PRJEB12449', 'PRJEB10878', 'PRJEB1220', 'PRJNA385949', 'PRJNA389280', 'PRJEB15371', 'PRJNA278393', 'PRJNA422434', 'PRJEB1786', 'PRJEB6337', 'PRJEB12123', 'PRJEB19090', 'PRJNA305507', 'PRJNA268964', 'PRJEB1690', 'PRJNA319574', 'PRJEB11532', 'PRJEB6997', 'PRJNA299502', 'PRJDB3601', 'PRJEB8094', 'PRJEB13870', 'PRJEB6456', 'PRJEB4336', 'PRJNA177201', 'PRJNA373879', 'PRJNA328899', 'PRJNA48479', 'PRJNA290729', 'PRJEB12947', 'PRJNA397112', 'PRJNA373901', 'PRJNA375935', 'PRJNA447983', 'PRJDB4176', 'PRJEB27928', 'PRJNA529400', 'PRJNA529124', 'PRJNA504891', 'PRJEB27005']\n"
          ]
        }
      ]
    },
    {
      "cell_type": "code",
      "source": [
        "all_study_accessions = list(set(all_study_accessions))"
      ],
      "metadata": {
        "id": "IIMrIu1gbOAb"
      },
      "execution_count": 78,
      "outputs": []
    },
    {
      "cell_type": "code",
      "source": [
        "with open('all_study_accessions.txt', 'w') as file:\n",
        "    file.write('\\n'.join(all_study_accessions))"
      ],
      "metadata": {
        "id": "8Pu6QSV30C2k"
      },
      "execution_count": 80,
      "outputs": []
    }
  ]
}