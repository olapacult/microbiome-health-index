{
  "nbformat": 4,
  "nbformat_minor": 0,
  "metadata": {
    "colab": {
      "provenance": []
    },
    "kernelspec": {
      "name": "python3",
      "display_name": "Python 3"
    },
    "language_info": {
      "name": "python"
    }
  },
  "cells": [
    {
      "cell_type": "markdown",
      "source": [
        "# Extraction of all study_accessions"
      ],
      "metadata": {
        "id": "hLWKcx5zaEw3"
      }
    },
    {
      "cell_type": "code",
      "source": [
        "import pandas as pd"
      ],
      "metadata": {
        "id": "ll8gI3p1aDS_"
      },
      "execution_count": 1,
      "outputs": []
    },
    {
      "cell_type": "markdown",
      "source": [
        "# GMHI"
      ],
      "metadata": {
        "id": "CGTJYqBWYlB2"
      }
    },
    {
      "cell_type": "markdown",
      "source": [
        "## train dataset - gmhi_train"
      ],
      "metadata": {
        "id": "EvjeuQ4gsGi3"
      }
    },
    {
      "cell_type": "code",
      "source": [
        "gmhi_train_df = pd.read_excel(\"gmhi1.xlsx\")\n",
        "gmhi_train_study_accessions = gmhi_train_df[\"Study Accession\"].dropna().unique().tolist()\n",
        "gmhi_train_study_accessions"
      ],
      "metadata": {
        "id": "gI_WgcrlfJFC",
        "colab": {
          "base_uri": "https://localhost:8080/"
        },
        "outputId": "50ba6d1d-5994-4e19-e27c-d7a22793af3f"
      },
      "execution_count": 2,
      "outputs": [
        {
          "output_type": "stream",
          "name": "stderr",
          "text": [
            "/usr/local/lib/python3.12/dist-packages/openpyxl/styles/stylesheet.py:237: UserWarning: Workbook contains no default style, apply openpyxl's default\n",
            "  warn(\"Workbook contains no default style, apply openpyxl's default\")\n"
          ]
        },
        {
          "output_type": "execute_result",
          "data": {
            "text/plain": [
              "['PRJEB21528',\n",
              " 'PRJEB7774',\n",
              " 'PRJEB6070',\n",
              " 'PRJEB12449',\n",
              " 'PRJEB10878',\n",
              " 'PRJEB1220',\n",
              " 'PRJNA385949',\n",
              " 'PRJNA389280',\n",
              " 'PRJEB15371',\n",
              " 'PRJNA278393',\n",
              " 'PRJNA422434',\n",
              " 'PRJEB1786',\n",
              " 'PRJEB6337',\n",
              " 'PRJEB12123',\n",
              " 'PRJEB19090',\n",
              " 'PRJNA305507',\n",
              " 'PRJNA268964',\n",
              " 'PRJEB1690',\n",
              " 'PRJNA319574',\n",
              " 'PRJEB11532',\n",
              " 'PRJEB6997',\n",
              " 'PRJNA299502',\n",
              " 'PRJDB3601',\n",
              " 'PRJEB8094',\n",
              " 'PRJEB13870',\n",
              " 'PRJEB6456',\n",
              " 'PRJEB4336',\n",
              " 'PRJNA177201',\n",
              " 'PRJNA373879',\n",
              " 'PRJNA328899',\n",
              " 'PRJNA48479',\n",
              " 'PRJNA290729',\n",
              " 'PRJEB12947']"
            ]
          },
          "metadata": {},
          "execution_count": 2
        }
      ]
    },
    {
      "cell_type": "markdown",
      "source": [
        "## validation dataset - gmhi_val"
      ],
      "metadata": {
        "id": "mJug2KnTsS0t"
      }
    },
    {
      "cell_type": "code",
      "source": [
        "gmhi_val_df = pd.read_excel(\"gmhi4.xlsx\")\n",
        "gmhi_val_study_accessions = gmhi_val_df[\"Study Accession\"].dropna().unique().tolist()\n",
        "gmhi_val_study_accessions"
      ],
      "metadata": {
        "colab": {
          "base_uri": "https://localhost:8080/"
        },
        "id": "WPKh_RmpaDB5",
        "outputId": "b340bc29-70ca-49d5-cd0d-78245d92fa5b"
      },
      "execution_count": 3,
      "outputs": [
        {
          "output_type": "stream",
          "name": "stderr",
          "text": [
            "/usr/local/lib/python3.12/dist-packages/openpyxl/styles/stylesheet.py:237: UserWarning: Workbook contains no default style, apply openpyxl's default\n",
            "  warn(\"Workbook contains no default style, apply openpyxl's default\")\n"
          ]
        },
        {
          "output_type": "execute_result",
          "data": {
            "text/plain": [
              "['PRJNA321058',\n",
              " 'PRJEB17784',\n",
              " 'PRJEB6337',\n",
              " 'PRJNA397112',\n",
              " 'PRJNA373901',\n",
              " 'PRJNA375935',\n",
              " 'PRJNA447983',\n",
              " 'PRJDB4176',\n",
              " 'PRJEB27928']"
            ]
          },
          "metadata": {},
          "execution_count": 3
        }
      ]
    },
    {
      "cell_type": "code",
      "source": [
        "common_study_accessions = list(set(gmhi_train_study_accessions) & set(gmhi_val_study_accessions))\n",
        "print(common_study_accessions)"
      ],
      "metadata": {
        "colab": {
          "base_uri": "https://localhost:8080/"
        },
        "id": "76xQYncH3mEi",
        "outputId": "29e7cf11-829d-4c7c-e774-97deaf8758c7"
      },
      "execution_count": 4,
      "outputs": [
        {
          "output_type": "stream",
          "name": "stdout",
          "text": [
            "['PRJEB6337']\n"
          ]
        }
      ]
    },
    {
      "cell_type": "markdown",
      "source": [
        "# hiPCA"
      ],
      "metadata": {
        "id": "f2aZa1AwZTlI"
      }
    },
    {
      "cell_type": "code",
      "source": [
        "metadata_hipca = 'hipca1.xlsx'\n",
        "hipca_train_df = pd.read_excel(metadata_hipca, sheet_name='Discovery dataset',header=None)\n",
        "hipca_train_df = hipca_train_df.T\n",
        "hipca_train_df.reset_index(drop=True, inplace=True)\n",
        "hipca_train_df.columns = hipca_train_df.iloc[0]\n",
        "hipca_train_df = hipca_train_df.iloc[1:].reset_index(drop=True)"
      ],
      "metadata": {
        "id": "oR8wypIlZpOl"
      },
      "execution_count": 5,
      "outputs": []
    },
    {
      "cell_type": "markdown",
      "source": [
        "## Discovery dataset - hipca_train"
      ],
      "metadata": {
        "id": "l-oYv03RYvZl"
      }
    },
    {
      "cell_type": "code",
      "source": [
        "hipca_train_df = pd.read_excel(metadata_hipca, sheet_name='Discovery dataset',header=None)\n",
        "hipca_train_df = hipca_train_df.T\n",
        "hipca_train_df.reset_index(drop=True, inplace=True)\n",
        "hipca_train_df.columns = hipca_train_df.iloc[0]\n",
        "hipca_train_df = hipca_train_df.iloc[1:].reset_index(drop=True)\n",
        "hipca_train_study_accessions = hipca_train_df['Study Accession'].dropna().unique().tolist()\n",
        "hipca_train_study_accessions"
      ],
      "metadata": {
        "colab": {
          "base_uri": "https://localhost:8080/"
        },
        "collapsed": true,
        "id": "0ebG07bpY639",
        "outputId": "3e54bcc8-f74f-4333-9ffb-bee381a7e6c7"
      },
      "execution_count": 6,
      "outputs": [
        {
          "output_type": "execute_result",
          "data": {
            "text/plain": [
              "['PRJEB21528',\n",
              " 'PRJEB7774',\n",
              " 'PRJEB6070',\n",
              " 'PRJEB12449',\n",
              " 'PRJEB10878',\n",
              " 'PRJEB1220',\n",
              " 'PRJNA385949',\n",
              " 'PRJNA389280',\n",
              " 'PRJEB15371',\n",
              " 'PRJNA278393',\n",
              " 'PRJNA422434',\n",
              " 'PRJEB1786',\n",
              " 'PRJEB6337',\n",
              " 'PRJEB12123',\n",
              " 'PRJEB19090',\n",
              " 'PRJNA305507',\n",
              " 'PRJNA268964',\n",
              " 'PRJEB1690',\n",
              " 'PRJNA319574',\n",
              " 'PRJEB11532',\n",
              " 'PRJEB6997',\n",
              " 'PRJNA299502',\n",
              " 'PRJDB3601',\n",
              " 'PRJEB8094',\n",
              " 'PRJEB13870',\n",
              " 'PRJEB6456',\n",
              " 'PRJEB4336',\n",
              " 'PRJNA177201',\n",
              " 'PRJNA373879',\n",
              " 'PRJNA328899',\n",
              " 'PRJNA48479',\n",
              " 'PRJNA290729',\n",
              " 'PRJEB12947']"
            ]
          },
          "metadata": {},
          "execution_count": 6
        }
      ]
    },
    {
      "cell_type": "markdown",
      "source": [
        "## Validation dataset - hipca_val"
      ],
      "metadata": {
        "id": "42Mb742la1Af"
      }
    },
    {
      "cell_type": "code",
      "source": [
        "hipca_val_df = pd.read_excel(metadata_hipca, sheet_name='Validation dataset',header=None)\n",
        "hipca_val_df = hipca_val_df.T\n",
        "hipca_val_df.columns = hipca_val_df.iloc[0]\n",
        "hipca_val_df.reset_index(drop=True, inplace=True)\n",
        "hipca_val_df = hipca_val_df.iloc[1:].reset_index(drop=True)\n",
        "print(hipca_val_df.head())\n",
        "print(hipca_val_df.columns)\n",
        "hipca_val_study_accessions = hipca_val_df['Sample Accession or Sample ID'].dropna().unique().tolist()\n",
        "hipca_val_study_accessions"
      ],
      "metadata": {
        "colab": {
          "base_uri": "https://localhost:8080/"
        },
        "collapsed": true,
        "id": "gSHMC8vAawGo",
        "outputId": "4a73972d-d4bf-4a15-a194-ce340aa45cf2"
      },
      "execution_count": 7,
      "outputs": [
        {
          "output_type": "stream",
          "name": "stdout",
          "text": [
            "0 Sample Accession or Sample ID Phenotype_all  Phenotype  \\\n",
            "0                  SAMEA2582018            LC  Unhealthy   \n",
            "1                  SAMEA2582019            LC  Unhealthy   \n",
            "2                  SAMEA2582020            LC  Unhealthy   \n",
            "3                  SAMEA2582022            LC  Unhealthy   \n",
            "4                  SAMEA2582023            LC  Unhealthy   \n",
            "\n",
            "0 s__Abiotrophia_defectiva s__Acidaminococcus_fermentans  \\\n",
            "0                        0                             0   \n",
            "1                        0                             0   \n",
            "2                        0                             0   \n",
            "3                        0                             0   \n",
            "4                        0                             0   \n",
            "\n",
            "0 s__Acidaminococcus_intestini s__Actinomyces_graevenitzii  \\\n",
            "0                            0                           0   \n",
            "1                            0                           0   \n",
            "2                            0                           0   \n",
            "3                            0                           0   \n",
            "4                            0                           0   \n",
            "\n",
            "0 s__Actinomyces_odontolyticus s__Actinomyces_oris s__Actinomyces_turicensis  \\\n",
            "0                            0                   0                         0   \n",
            "1                            0                   0                         0   \n",
            "2                            0                   0                         0   \n",
            "3                            0                   0                         0   \n",
            "4                            0                   0                         0   \n",
            "\n",
            "0  ... s__Porcine_type_C_oncovirus s__Pseudomonas_mendocina  \\\n",
            "0  ...                           0                        0   \n",
            "1  ...                           0                        0   \n",
            "2  ...                           0                        0   \n",
            "3  ...                           0                        0   \n",
            "4  ...                           0                        0   \n",
            "\n",
            "0 s__Pseudomonas_unclassified s__Roseburia_unclassified  \\\n",
            "0                           0                         0   \n",
            "1                           0                         0   \n",
            "2                           0                         0   \n",
            "3                           0                         0   \n",
            "4                           0                         0   \n",
            "\n",
            "0 s__Rothia_unclassified s__Scardovia_unclassified s__Streptococcus_sp_BS35b  \\\n",
            "0                      0                         0                         0   \n",
            "1                      0                         0                         0   \n",
            "2                      0                         0                         0   \n",
            "3                      0                         0                         0   \n",
            "4                      0                         0                         0   \n",
            "\n",
            "0 s__Subdoligranulum_unclassified s__Turicibacter_unclassified  \\\n",
            "0                               0                            0   \n",
            "1                               0                            0   \n",
            "2                               0                            0   \n",
            "3                               0                            0   \n",
            "4                               0                            0   \n",
            "\n",
            "0 s__Veillonella_unclassified  \n",
            "0                           0  \n",
            "1                           0  \n",
            "2                           0  \n",
            "3                           0  \n",
            "4                           0  \n",
            "\n",
            "[5 rows x 579 columns]\n",
            "Index(['Sample Accession or Sample ID', 'Phenotype_all', 'Phenotype',\n",
            "       's__Abiotrophia_defectiva', 's__Acidaminococcus_fermentans',\n",
            "       's__Acidaminococcus_intestini', 's__Actinomyces_graevenitzii',\n",
            "       's__Actinomyces_odontolyticus', 's__Actinomyces_oris',\n",
            "       's__Actinomyces_turicensis',\n",
            "       ...\n",
            "       's__Porcine_type_C_oncovirus', 's__Pseudomonas_mendocina',\n",
            "       's__Pseudomonas_unclassified', 's__Roseburia_unclassified',\n",
            "       's__Rothia_unclassified', 's__Scardovia_unclassified',\n",
            "       's__Streptococcus_sp_BS35b', 's__Subdoligranulum_unclassified',\n",
            "       's__Turicibacter_unclassified', 's__Veillonella_unclassified'],\n",
            "      dtype='object', name=0, length=579)\n"
          ]
        },
        {
          "output_type": "execute_result",
          "data": {
            "text/plain": [
              "['SAMEA2582018',\n",
              " 'SAMEA2582019',\n",
              " 'SAMEA2582020',\n",
              " 'SAMEA2582022',\n",
              " 'SAMEA2582023',\n",
              " 'SAMEA2582024',\n",
              " 'SAMEA2582025',\n",
              " 'SAMEA2582026',\n",
              " 'SAMEA2582027',\n",
              " 'SAMEA2582028',\n",
              " 'SAMEA2582029',\n",
              " 'SAMEA2582030',\n",
              " 'SAMEA2582031',\n",
              " 'SAMEA2582032',\n",
              " 'SAMEA2582033',\n",
              " 'SAMEA2582034',\n",
              " 'SAMEA2582035',\n",
              " 'SAMEA2582036',\n",
              " 'SAMEA2582037',\n",
              " 'SAMEA2582038',\n",
              " 'SAMEA2582039',\n",
              " 'SAMEA2582040',\n",
              " 'SAMEA2582042',\n",
              " 'SAMEA2582043',\n",
              " 'SAMEA2582044',\n",
              " 'SAMEA2582045',\n",
              " 'SAMEA2582046',\n",
              " 'SAMEA2582047',\n",
              " 'SAMEA2582048',\n",
              " 'SAMEA2582049',\n",
              " 'SAMEA2582050',\n",
              " 'SAMEA2582051',\n",
              " 'SAMEA2582052',\n",
              " 'SAMEA2582053',\n",
              " 'SAMEA2582054',\n",
              " 'SAMEA2582055',\n",
              " 'SAMEA2582056',\n",
              " 'SAMEA2582057',\n",
              " 'SAMEA2582058',\n",
              " 'SAMEA2582059',\n",
              " 'SAMEA2582060',\n",
              " 'SAMEA2582061',\n",
              " 'SAMEA2582062',\n",
              " 'SAMEA2582063',\n",
              " 'SAMEA2582064',\n",
              " 'SAMEA2582065',\n",
              " 'SAMEA2582066',\n",
              " 'SAMEA2582067',\n",
              " 'SAMEA2582068',\n",
              " 'SAMEA2582069',\n",
              " 'SAMEA2582070',\n",
              " 'SAMEA2582071',\n",
              " 'SAMEA2582072',\n",
              " 'SAMEA2582073',\n",
              " 'SAMEA2582074',\n",
              " 'SAMEA2582075',\n",
              " 'SAMEA2582076',\n",
              " 'SAMEA2582077',\n",
              " 'SAMEA2582078',\n",
              " 'SAMEA2582079',\n",
              " 'SAMEA2582080',\n",
              " 'SAMEA2582081',\n",
              " 'SAMEA2582082',\n",
              " 'SAMEA2582083',\n",
              " 'SAMEA2582084',\n",
              " 'SAMEA2582085',\n",
              " 'SAMEA2582086',\n",
              " 'SAMEA2582087',\n",
              " 'SAMEA2582088',\n",
              " 'SAMEA2582089',\n",
              " 'SAMEA2582091',\n",
              " 'SAMEA2582093',\n",
              " 'SAMEA2582094',\n",
              " 'SAMEA2582095',\n",
              " 'SAMEA2582096',\n",
              " 'SAMEA2582097',\n",
              " 'SAMEA2582098',\n",
              " 'SAMEA2582099',\n",
              " 'SAMEA2582100',\n",
              " 'SAMEA2582101',\n",
              " 'SAMEA2582102',\n",
              " 'SAMEA2582103',\n",
              " 'SAMEA2582104',\n",
              " 'SAMEA2582105',\n",
              " 'SAMEA2582106',\n",
              " 'SAMEA2582107',\n",
              " 'SAMEA2582108',\n",
              " 'SAMEA2582109',\n",
              " 'SAMEA2582110',\n",
              " 'SAMEA2582111',\n",
              " 'SAMEA2582112',\n",
              " 'SAMEA2582113',\n",
              " 'SAMEA2582114',\n",
              " 'SAMEA2582115',\n",
              " 'SAMEA2582116',\n",
              " 'SAMEA2582117',\n",
              " 'SAMEA2582118',\n",
              " 'SAMEA2582119',\n",
              " 'SAMEA2582120',\n",
              " 'SAMEA2582122',\n",
              " 'SAMEA2582123',\n",
              " 'SAMEA2582124',\n",
              " 'SAMEA2582125',\n",
              " 'SAMEA2582126',\n",
              " 'SAMEA2582127',\n",
              " 'SAMEA2582128',\n",
              " 'SAMEA2582129',\n",
              " 'SAMEA2582130',\n",
              " 'SAMEA2582131',\n",
              " 'SAMEA2582132',\n",
              " 'SAMEA2582133',\n",
              " 'SAMEA2582134',\n",
              " 'SAMEA2582135',\n",
              " 'SAMEA2582136',\n",
              " 'SAMEA2582137',\n",
              " 'SAMEA2582138',\n",
              " 'SAMEA2582139',\n",
              " 'SAMEA2582140',\n",
              " 'SAMEA2582141',\n",
              " 'SAMEA2582142',\n",
              " 'SAMEA2582143',\n",
              " 'SAMEA2582144',\n",
              " 'SAMEA2582145',\n",
              " 'SAMEA2582146',\n",
              " 'SAMEA2582147',\n",
              " 'SAMEA2582148',\n",
              " 'SAMEA2582149',\n",
              " 'SAMEA2582150',\n",
              " 'SAMEA2582151',\n",
              " 'SAMEA2582152',\n",
              " 'SAMEA2582153',\n",
              " 'SAMEA2582154',\n",
              " 'SAMEA2582155',\n",
              " 'SAMEA2582156',\n",
              " 'SAMEA2582157',\n",
              " 'SAMEA2582158',\n",
              " 'SAMEA2582159',\n",
              " 'SAMEA2582160',\n",
              " 'SAMEA2582161',\n",
              " 'SAMEA2582162',\n",
              " 'SAMEA2582163',\n",
              " 'SAMEA2582164',\n",
              " 'SAMEA2582165',\n",
              " 'SAMEA2582166',\n",
              " 'SAMEA2582167',\n",
              " 'SAMEA2582168',\n",
              " 'SAMEA2582169',\n",
              " 'SAMEA2582170',\n",
              " 'SAMEA2582171',\n",
              " 'SAMEA2582172',\n",
              " 'SAMEA2582173',\n",
              " 'SAMEA2582174',\n",
              " 'SAMEA2582175',\n",
              " 'SAMEA2582176',\n",
              " 'SAMEA2582177',\n",
              " 'SAMEA2582178',\n",
              " 'SAMEA2582179',\n",
              " 'SAMEA2582180',\n",
              " 'SAMEA2582181',\n",
              " 'SAMEA2582182',\n",
              " 'SAMEA2582183',\n",
              " 'SAMEA2582184',\n",
              " 'SAMEA2582185',\n",
              " 'SAMEA2582186',\n",
              " 'SAMEA103958148',\n",
              " 'SAMEA103958159',\n",
              " 'SAMEA103958137',\n",
              " 'SAMEA103958161',\n",
              " 'SAMEA103958150',\n",
              " 'SAMEA103958162',\n",
              " 'SAMEA103958155',\n",
              " 'SAMEA103958136',\n",
              " 'SAMEA103958151',\n",
              " 'SAMEA103958156',\n",
              " 'SAMEA103958149',\n",
              " 'SAMEA103958145',\n",
              " 'SAMEA103958144',\n",
              " 'SAMEA103958153',\n",
              " 'SAMEA103958158',\n",
              " 'SAMEA103958141',\n",
              " 'SAMEA103958143',\n",
              " 'SAMEA103958147',\n",
              " 'SAMEA103958135',\n",
              " 'SAMEA103958157',\n",
              " 'SAMEA103958142',\n",
              " 'SAMEA103958152',\n",
              " 'SAMEA103958140',\n",
              " 'SAMEA103958138',\n",
              " 'SAMEA103958146',\n",
              " 'SAMEA103958160',\n",
              " 'SAMEA103958139',\n",
              " 'SAMEA103958154',\n",
              " 'SRR3582131',\n",
              " 'SRR3582133',\n",
              " 'SRR3582135',\n",
              " 'SRR3582143',\n",
              " 'SRR3582147',\n",
              " 'SRR3582151',\n",
              " 'SRR3582153',\n",
              " 'SRR3582154',\n",
              " 'SRR3582159',\n",
              " 'SRR3582163',\n",
              " 'SRR3582166',\n",
              " 'SRR3582168',\n",
              " 'SRR3582173',\n",
              " 'SRR3582175',\n",
              " 'SRR3582180',\n",
              " 'SRR5279217',\n",
              " 'SRR5279218',\n",
              " 'SRR5279219',\n",
              " 'SRR5279220',\n",
              " 'SRR5279221',\n",
              " 'SRR5279222',\n",
              " 'SRR5279223',\n",
              " 'SRR5279224',\n",
              " 'SRR5279225',\n",
              " 'SRR5279226',\n",
              " 'SRR5279227',\n",
              " 'SRR5279228',\n",
              " 'SRR5279229',\n",
              " 'SRR5279230',\n",
              " 'SRR5279231',\n",
              " 'SRR5279232',\n",
              " 'SRR5279233',\n",
              " 'SRR5279234',\n",
              " 'SRR5279235',\n",
              " 'SRR5279236',\n",
              " 'SRR5279237',\n",
              " 'SRR5279238',\n",
              " 'SRR5279239',\n",
              " 'SRR5279240',\n",
              " 'SRR5279241',\n",
              " 'SRR5279242',\n",
              " 'SRR5279243',\n",
              " 'SRR5279244',\n",
              " 'SRR5279245',\n",
              " 'SRR5279246',\n",
              " 'SRR5279247',\n",
              " 'SRR5279248',\n",
              " 'SRR5279249',\n",
              " 'SRR5279250',\n",
              " 'SRR5279251',\n",
              " 'SRR5279252',\n",
              " 'SRR5279253',\n",
              " 'SRR5279254',\n",
              " 'SRR5279255',\n",
              " 'SRR5279256',\n",
              " 'SRR5279257',\n",
              " 'SRR5279258',\n",
              " 'SRR5279259',\n",
              " 'SRR5279260',\n",
              " 'SRR5279261',\n",
              " 'SRR5279262',\n",
              " 'SRR5279263',\n",
              " 'SRR5279264',\n",
              " 'SRR5279265',\n",
              " 'SRR5279266',\n",
              " 'SRR5279267',\n",
              " 'SRR5279268',\n",
              " 'SRR5279269',\n",
              " 'SRR5279270',\n",
              " 'SRR5279271',\n",
              " 'SRR5279272',\n",
              " 'SRR5279273',\n",
              " 'SRR5279274',\n",
              " 'SRR5279275',\n",
              " 'SRR5279276',\n",
              " 'SRR5279277',\n",
              " 'SRR5279278',\n",
              " 'SRR5279279',\n",
              " 'SRR5279280',\n",
              " 'SRR5279281',\n",
              " 'SRR5279282',\n",
              " 'SRR5279283',\n",
              " 'SRR5279284',\n",
              " 'SRR5279285',\n",
              " 'SRR5279286',\n",
              " 'SRR5279287',\n",
              " 'SRR5279288',\n",
              " 'SRR5279289',\n",
              " 'SRR5279290',\n",
              " 'SRR5279291',\n",
              " 'SRR5279292',\n",
              " 'SRR5279293',\n",
              " 'SRR5279294',\n",
              " 'SRR5279295',\n",
              " 'SRR5279296',\n",
              " 'SRR5279297',\n",
              " 'SRR5279298',\n",
              " 'SRR5279299',\n",
              " 'SRR5279300',\n",
              " 'SRR5279301',\n",
              " 'SRR5279302',\n",
              " 'SRR5279303',\n",
              " 'SRR5279304',\n",
              " 'SRR5279305',\n",
              " 'SRR5279306',\n",
              " 'SRR5279307',\n",
              " 'SRR5279308',\n",
              " 'SRR5279309',\n",
              " 'SRR5279310',\n",
              " 'SRR5279311',\n",
              " 'SRR5279312',\n",
              " 'SRR5279313',\n",
              " 'SRR5275394',\n",
              " 'SRR5275395',\n",
              " 'SRR5275396',\n",
              " 'SRR5275397',\n",
              " 'SRR5275398',\n",
              " 'SRR5275399',\n",
              " 'SRR5275400',\n",
              " 'SRR5275401',\n",
              " 'SRR5275402',\n",
              " 'SRR5275403',\n",
              " 'SRR5275404',\n",
              " 'SRR5275405',\n",
              " 'SRR5275406',\n",
              " 'SRR5275407',\n",
              " 'SRR5275408',\n",
              " 'SRR5275409',\n",
              " 'SRR5275410',\n",
              " 'SRR5275411',\n",
              " 'SRR5275412',\n",
              " 'SRR5275413',\n",
              " 'SRR5275414',\n",
              " 'SRR5275415',\n",
              " 'SRR5275421',\n",
              " 'SRR5275422',\n",
              " 'SRR5275423',\n",
              " 'SRR5275424',\n",
              " 'SRR5275425',\n",
              " 'SRR5275426',\n",
              " 'SRR5275427',\n",
              " 'SRR5275428',\n",
              " 'SRR5275429',\n",
              " 'SRR5275430',\n",
              " 'SRR5275431',\n",
              " 'SRR5275432',\n",
              " 'SRR5275433',\n",
              " 'SRR5275434',\n",
              " 'SRR5275435',\n",
              " 'SRR5275436',\n",
              " 'SRR5275437',\n",
              " 'SRR5275438',\n",
              " 'SRR5275439',\n",
              " 'SRR5275440',\n",
              " 'SRR5275441',\n",
              " 'SRR5275442',\n",
              " 'SRR5275443',\n",
              " 'SRR5275444',\n",
              " 'SRR5275445',\n",
              " 'SRR5275446',\n",
              " 'SRR5275447',\n",
              " 'SRR5275448',\n",
              " 'SRR5275449',\n",
              " 'SRR5275450',\n",
              " 'SRR5275451',\n",
              " 'SRR5275452',\n",
              " 'SRR5275453',\n",
              " 'SRR5275454',\n",
              " 'SRR5275455',\n",
              " 'SRR5275456',\n",
              " 'SRR5275457',\n",
              " 'SRR5275458',\n",
              " 'SRR5275459',\n",
              " 'SRR5275460',\n",
              " 'SRR5275461',\n",
              " 'SRR5275462',\n",
              " 'SRR5275463',\n",
              " 'SRR5275464',\n",
              " 'SRR5275465',\n",
              " 'SRR5275466',\n",
              " 'SRR5275467',\n",
              " 'SRR5275468',\n",
              " 'SRR5275469',\n",
              " 'SRR5275470',\n",
              " 'SRR5275471',\n",
              " 'SRR5275472',\n",
              " 'SRR5275473',\n",
              " 'SRR5275474',\n",
              " 'SRR5275475',\n",
              " 'SRR5275476',\n",
              " 'SRR5275477',\n",
              " 'SRR5275478',\n",
              " 'SRR5275479',\n",
              " 'SRR5275480',\n",
              " 'SRR5275481',\n",
              " 'SRR5275482',\n",
              " 'SRR5275483',\n",
              " 'SRR5275484',\n",
              " 'SAMD00114722',\n",
              " 'SAMD00114724',\n",
              " 'SAMD00114727',\n",
              " 'SAMD00114731',\n",
              " 'SAMD00114737',\n",
              " 'SAMD00114753',\n",
              " 'SAMD00114755',\n",
              " 'SAMD00114760',\n",
              " 'SAMD00114761',\n",
              " 'SAMD00114763',\n",
              " 'SAMD00114765',\n",
              " 'SAMD00114767',\n",
              " 'SAMD00114770',\n",
              " 'SAMD00114782',\n",
              " 'SAMD00114803',\n",
              " 'SAMD00114805',\n",
              " 'SAMD00114813',\n",
              " 'SAMD00114825',\n",
              " 'SAMD00114826',\n",
              " 'SAMD00114840',\n",
              " 'SAMD00114849',\n",
              " 'SAMD00114863',\n",
              " 'SAMD00114871',\n",
              " 'SAMD00114880',\n",
              " 'SAMD00114884',\n",
              " 'SAMD00114892',\n",
              " 'SAMD00114893',\n",
              " 'SAMD00114912',\n",
              " 'SAMD00114915',\n",
              " 'SAMD00114918',\n",
              " 'SAMD00114920',\n",
              " 'SAMD00114931',\n",
              " 'SAMD00114938',\n",
              " 'SAMD00114946',\n",
              " 'SAMD00114954',\n",
              " 'SAMD00114959',\n",
              " 'SAMD00114964',\n",
              " 'SAMD00114966',\n",
              " 'SAMD00114967',\n",
              " 'SAMD00114970',\n",
              " 'SAMD00114974',\n",
              " 'SAMD00115000',\n",
              " 'SAMD00115001',\n",
              " 'SAMD00115009',\n",
              " 'SAMD00115013',\n",
              " 'SAMD00115020',\n",
              " 'SAMD00115035',\n",
              " 'SAMD00154993',\n",
              " 'SAMD00154994',\n",
              " 'SAMD00154995',\n",
              " 'SAMEA4817893',\n",
              " 'SAMEA4817894',\n",
              " 'SAMEA4817895',\n",
              " 'SAMEA4817896',\n",
              " 'SAMEA4817897',\n",
              " 'SAMEA4817898',\n",
              " 'SAMEA4817899',\n",
              " 'SAMEA4817900',\n",
              " 'SAMEA4817901',\n",
              " 'SAMEA4817902',\n",
              " 'SAMEA4817903',\n",
              " 'SAMEA4817904',\n",
              " 'SAMEA4817905',\n",
              " 'SAMEA4817906',\n",
              " 'SAMEA4817907',\n",
              " 'SAMEA4817908',\n",
              " 'SAMEA4817909',\n",
              " 'SAMEA4817910',\n",
              " 'SAMEA4817911',\n",
              " 'SAMEA4817912',\n",
              " 'SAMEA4817913',\n",
              " 'SAMEA4817914',\n",
              " 'SAMEA4817915',\n",
              " 'SAMEA4817916',\n",
              " 'SAMEA4817917',\n",
              " 'SAMEA4817918',\n",
              " 'SAMEA4817919',\n",
              " 'SAMEA4817920',\n",
              " 'SAMEA4817921',\n",
              " 'SAMEA4817922',\n",
              " 'SAMEA4817923',\n",
              " 'SAMEA4817924',\n",
              " 'SAMEA4817925',\n",
              " 'SAMEA4817926',\n",
              " 'SAMEA4817927',\n",
              " 'SAMEA4817928',\n",
              " 'SAMEA4817929',\n",
              " 'SAMEA4817930',\n",
              " 'SAMEA4817931',\n",
              " 'SAMEA4817932',\n",
              " 'SAMEA4817933',\n",
              " 'SAMEA4817934',\n",
              " 'SAMEA4817935',\n",
              " 'SAMEA4817936',\n",
              " 'SAMEA4817937',\n",
              " 'SAMEA4817938',\n",
              " 'SAMEA4817939',\n",
              " 'SAMEA4817940',\n",
              " 'SAMEA4817941',\n",
              " 'SAMEA4817942',\n",
              " 'SAMEA4817943',\n",
              " 'SAMEA4817944',\n",
              " 'SAMEA4817945',\n",
              " 'SAMEA4817946',\n",
              " 'SAMEA4817947',\n",
              " 'SAMEA4817948',\n",
              " 'SAMEA4817949',\n",
              " 'SAMEA4817950',\n",
              " 'SAMEA4817951',\n",
              " 'SAMEA4817952',\n",
              " 'SAMEA4817953',\n",
              " 'SAMEA4817954',\n",
              " 'SAMEA4817955',\n",
              " 'SAMEA4817956',\n",
              " 'SAMEA4817957',\n",
              " 'SAMEA4817958',\n",
              " 'SAMEA4817959',\n",
              " 'SAMEA4817960',\n",
              " 'SAMEA4817961',\n",
              " 'SAMEA4817962',\n",
              " 'SAMEA4817963',\n",
              " 'SAMEA4817964',\n",
              " 'SAMEA4817965',\n",
              " 'SAMEA4817966',\n",
              " 'SAMEA4817967',\n",
              " 'SAMEA4817968',\n",
              " 'SAMEA4817969',\n",
              " 'SAMEA4817970',\n",
              " 'SAMEA4817971',\n",
              " 'SAMEA4817972',\n",
              " 'SAMEA4817973',\n",
              " 'SAMEA4817974',\n",
              " 'SAMN07448979',\n",
              " 'SAMN07448978',\n",
              " 'SAMN07448977',\n",
              " 'SAMN07448976',\n",
              " 'SAMN07448975',\n",
              " 'SAMN07448974',\n",
              " 'SAMN07448973',\n",
              " 'SAMN07448972',\n",
              " 'SAMN07448971',\n",
              " 'SAMN07448970',\n",
              " 'SAMN07449041',\n",
              " 'SAMN07449042',\n",
              " 'SAMN07448980',\n",
              " 'SAMN07448981',\n",
              " 'SAMN07448982',\n",
              " 'SAMN07448983',\n",
              " 'SAMN07448984',\n",
              " 'SAMN07448985',\n",
              " 'SAMN07448986',\n",
              " 'SAMN07449040',\n",
              " 'SAMN07449029',\n",
              " 'SAMN07449026',\n",
              " 'SAMN07449027',\n",
              " 'SAMN07449025',\n",
              " 'SAMN07449038',\n",
              " 'SAMN07449023',\n",
              " 'SAMN07449024',\n",
              " 'SAMN07449022',\n",
              " 'SAMN07449036',\n",
              " 'SAMN07449037',\n",
              " 'SAMN07449034',\n",
              " 'SAMN07449035',\n",
              " 'SAMN07449032',\n",
              " 'SAMN07449033',\n",
              " 'SAMN07449030',\n",
              " 'SAMN07449031',\n",
              " 'SAMN07448968',\n",
              " 'SAMN07448969',\n",
              " 'SAMN07449077',\n",
              " 'SAMN07449076',\n",
              " 'SAMN07449039',\n",
              " 'SAMN07449075',\n",
              " 'SAMN07449074',\n",
              " 'SAMN07449070',\n",
              " 'SAMN07449000',\n",
              " 'SAMN07449072',\n",
              " 'SAMN07449064',\n",
              " 'SAMN07449062',\n",
              " 'SAMN07448988',\n",
              " 'SAMN07449068',\n",
              " 'SAMN07449067',\n",
              " 'SAMN07449066',\n",
              " 'SAMN07449065',\n",
              " 'SAMN07448989',\n",
              " 'SAMN07449069',\n",
              " 'SAMN07449009',\n",
              " 'SAMN07449010',\n",
              " 'SAMN07449007',\n",
              " 'SAMN07449008',\n",
              " 'SAMN07449005',\n",
              " 'SAMN07449006',\n",
              " 'SAMN07449003',\n",
              " 'SAMN07449004',\n",
              " 'SAMN07449001',\n",
              " 'SAMN07449002',\n",
              " 'SAMN07448998',\n",
              " 'SAMN07448999',\n",
              " 'SAMN07448995',\n",
              " 'SAMN07448996',\n",
              " 'SAMN07448997',\n",
              " 'SAMN07448990',\n",
              " 'SAMN07448991',\n",
              " 'SAMN07448992',\n",
              " 'SAMN07448993',\n",
              " 'SAMN07449051',\n",
              " 'SAMN07449050',\n",
              " 'SAMN07448987',\n",
              " 'SAMN07449043',\n",
              " 'SAMN07449045',\n",
              " 'SAMN07449044',\n",
              " 'SAMN07449047',\n",
              " 'SAMN07449046',\n",
              " 'SAMN07449049',\n",
              " 'SAMN07449048',\n",
              " 'SAMN07449020',\n",
              " 'SAMN07449019',\n",
              " 'SAMN07449016',\n",
              " 'SAMN07449015',\n",
              " 'SAMN07449018',\n",
              " 'SAMN07449017',\n",
              " 'SAMN07449012',\n",
              " 'SAMN07449011',\n",
              " 'SAMN07449014',\n",
              " 'SAMN07449013',\n",
              " 'SAMN07449054',\n",
              " 'SAMN07449055',\n",
              " 'SAMN07449052',\n",
              " 'SAMN07449053',\n",
              " 'SAMN07449058',\n",
              " 'SAMN07449056',\n",
              " 'SAMN08813994',\n",
              " 'SAMN08814037',\n",
              " 'SAMN08814031',\n",
              " 'SAMN08814036',\n",
              " 'SAMN08814045',\n",
              " 'SAMN08814044',\n",
              " 'SAMN08814033',\n",
              " 'SAMN08814029',\n",
              " 'SAMN08814039',\n",
              " 'SAMN08814030',\n",
              " 'SAMN08813971',\n",
              " 'SAMN08813956',\n",
              " 'SAMN08813975',\n",
              " 'SAMN08813949',\n",
              " 'SAMN08813954',\n",
              " 'SAMN08813964',\n",
              " 'SAMN08813923',\n",
              " 'SAMN08813943',\n",
              " 'SAMN08813998',\n",
              " 'SAMN08814042',\n",
              " 'SAMN08814035',\n",
              " 'SAMN08813999',\n",
              " 'SAMN08814000',\n",
              " 'SAMN08814057',\n",
              " 'SAMN08814001',\n",
              " 'SAMN08814002',\n",
              " 'SAMN08813930',\n",
              " 'SAMN08813922',\n",
              " 'SAMN08813942',\n",
              " 'SAMN08813921',\n",
              " 'SAMN08813959',\n",
              " 'SAMN08813961',\n",
              " 'SAMN08813965',\n",
              " 'SAMN08813960',\n",
              " 'SAMN08813931',\n",
              " 'SAMN08814017',\n",
              " 'SAMN08814018',\n",
              " 'SAMN08814013',\n",
              " 'SAMN08814014',\n",
              " 'SAMN08814015',\n",
              " 'SAMN08814016',\n",
              " 'SAMN08814009',\n",
              " 'SAMN08814012',\n",
              " 'SAMN08813968',\n",
              " 'SAMN08813927',\n",
              " 'SAMN08813951',\n",
              " 'SAMN08813978',\n",
              " 'SAMN08813934',\n",
              " 'SAMN08813940',\n",
              " 'SAMN08813924',\n",
              " 'SAMN08813935',\n",
              " 'SAMN08813941',\n",
              " 'SAMN08814027',\n",
              " 'SAMN08814026',\n",
              " 'SAMN08814022',\n",
              " 'SAMN08814021',\n",
              " 'SAMN08814020',\n",
              " 'SAMN08814019',\n",
              " 'SAMN08814025',\n",
              " 'SAMN08814023',\n",
              " 'SAMN08813976',\n",
              " 'SAMN08813972',\n",
              " 'SAMN08813962',\n",
              " 'SAMN08813977',\n",
              " 'SAMN08813933',\n",
              " 'SAMN08813928',\n",
              " 'SAMN08813944',\n",
              " 'SAMN08813966',\n",
              " 'SAMN08813967',\n",
              " 'SAMN08813938',\n",
              " 'SAMN08813958',\n",
              " 'SAMN08813945',\n",
              " 'SAMN08813946',\n",
              " 'SAMN08813936',\n",
              " 'SAMN08814049',\n",
              " 'SAMN08814028',\n",
              " 'SAMN08814048',\n",
              " 'SAMN08814038',\n",
              " 'SAMN08814047',\n",
              " 'SAMN08814041',\n",
              " 'SAMN08813957',\n",
              " 'SAMN08813970',\n",
              " 'SAMN08813953',\n",
              " 'SAMN08813950',\n",
              " 'SAMN08814032',\n",
              " 'SAMN08814052',\n",
              " 'SAMN08814004',\n",
              " 'SAMN08814006',\n",
              " 'SAMN08814005',\n",
              " 'SAMN08814058',\n",
              " 'SAMN08814034',\n",
              " 'SAMN08814051',\n",
              " 'SAMN08814003',\n",
              " 'SAMN08813991',\n",
              " 'SAMN08813990',\n",
              " 'SAMN08813993',\n",
              " 'SAMN08813992',\n",
              " 'SAMN08814008',\n",
              " 'SAMN08814007',\n",
              " 'SAMN08813995',\n",
              " 'SAMN08813997',\n",
              " 'SAMN08813996',\n",
              " 'SAMN08813988',\n",
              " 'SAMN08813982',\n",
              " 'SAMN08813983',\n",
              " 'SAMN08813980',\n",
              " 'SAMN08813981',\n",
              " 'SAMN08813986',\n",
              " 'SAMN08813987',\n",
              " 'SAMN08813984',\n",
              " 'SAMN08813985',\n",
              " 'RHB_RAM_0004',\n",
              " 'RHB_RAM_0007',\n",
              " 'RHB_RAM_0013',\n",
              " 'RHB_RAM_0015',\n",
              " 'RHB_RAM_0017',\n",
              " 'RHB_RAM_0020',\n",
              " 'RHB_RAM_0024',\n",
              " 'RHB_RAM_0025',\n",
              " 'RHB_RAM_0026',\n",
              " 'RHB_RAM_0037',\n",
              " 'rhb_ram_0040',\n",
              " 'RHB_RAM_0041',\n",
              " 'RHB_RAM_0042',\n",
              " 'RHB_RAM_0043',\n",
              " 'RHB_RAM_0044',\n",
              " 'RHB_RAM_0048',\n",
              " 'RHB_RAM_0051',\n",
              " 'RHB_RAM_0054',\n",
              " 'RHB_RAM_0058',\n",
              " 'RHB_RAM_0060',\n",
              " 'RHB_RAM_0061',\n",
              " 'RHB_RAM_0062',\n",
              " 'RHB_RAM_0063',\n",
              " 'RHB_RAM_0065',\n",
              " 'RHB_RAM_0066',\n",
              " 'RHB_RAM_0075',\n",
              " 'RHB_RAM_0076',\n",
              " 'RHB_RAM_0078',\n",
              " 'RHB_RAM_0081',\n",
              " 'RHB_RAM_0085',\n",
              " 'RHB_RAM_0093',\n",
              " 'RHB_RAM_0096',\n",
              " 'RHB_RAM_0098',\n",
              " 'RHB_RAM_0108',\n",
              " 'RHB_RAM_0117',\n",
              " 'RHB_RAM_0118',\n",
              " 'RHB_RAM_0121',\n",
              " 'RHB_RAM_0127',\n",
              " 'RHB_RAM_0129',\n",
              " 'RHB_RAM_0131',\n",
              " 'RHB_RAM_0135',\n",
              " 'RHB_RAM_0136',\n",
              " 'RHB_RAM_0137',\n",
              " 'RHB_RAM_0160',\n",
              " 'RHB_RAM_0163',\n",
              " 'RHB_RAM_0169',\n",
              " 'RHB_RAM_0182',\n",
              " 'RHB_RAM_0198',\n",
              " 'RHB_RAM_0216']"
            ]
          },
          "metadata": {},
          "execution_count": 7
        }
      ]
    },
    {
      "cell_type": "markdown",
      "source": [
        "## Test dataset - hipca_test"
      ],
      "metadata": {
        "id": "FvjCUcnXblYV"
      }
    },
    {
      "cell_type": "code",
      "source": [
        "hipca_test = pd.read_excel(metadata_hipca, sheet_name='Test dataset',header=None)\n",
        "hipca_test = hipca_test.T\n",
        "hipca_test.columns = hipca_test.iloc[0]\n",
        "hipca_test = hipca_test.iloc[1:].reset_index(drop=True)\n",
        "hipca_test_study_accessions = hipca_test['study_accession'].dropna().unique().tolist()\n",
        "hipca_test_study_accessions"
      ],
      "metadata": {
        "colab": {
          "base_uri": "https://localhost:8080/"
        },
        "collapsed": true,
        "id": "blX7Rx5kbo7s",
        "outputId": "747e5dcd-bdb7-4590-c758-451ebf352425"
      },
      "execution_count": 8,
      "outputs": [
        {
          "output_type": "execute_result",
          "data": {
            "text/plain": [
              "['PRJNA531203',\n",
              " 'PRJNA449784',\n",
              " 'PRJEB29127\\t',\n",
              " 'PRJNA529400',\n",
              " 'PRJNA529124',\n",
              " 'PRJNA504891',\n",
              " 'PRJEB27005']"
            ]
          },
          "metadata": {},
          "execution_count": 8
        }
      ]
    },
    {
      "cell_type": "markdown",
      "source": [
        "# GMWI2"
      ],
      "metadata": {
        "id": "Nu3LG5-9ZIAo"
      }
    },
    {
      "cell_type": "markdown",
      "source": [
        "## train dataset"
      ],
      "metadata": {
        "id": "o6OyyEm8Dlol"
      }
    },
    {
      "cell_type": "code",
      "source": [
        "gmwi2_train = pd.read_excel(\"gmwi2.xlsx\")\n",
        "gmwi2_train_study_accessions = gmwi2_train[\"BioProjectID\"].dropna().unique().tolist()\n",
        "gmwi2_train_study_accessions"
      ],
      "metadata": {
        "id": "Xg5gkPYSZQ8Q",
        "colab": {
          "base_uri": "https://localhost:8080/"
        },
        "collapsed": true,
        "outputId": "90e6573e-98ea-4a38-edc7-a4ad20a25375"
      },
      "execution_count": 12,
      "outputs": [
        {
          "output_type": "stream",
          "name": "stderr",
          "text": [
            "/usr/local/lib/python3.12/dist-packages/openpyxl/styles/stylesheet.py:237: UserWarning: Workbook contains no default style, apply openpyxl's default\n",
            "  warn(\"Workbook contains no default style, apply openpyxl's default\")\n"
          ]
        },
        {
          "output_type": "execute_result",
          "data": {
            "text/plain": [
              "['PRJNA384246',\n",
              " 'PRJNA665061',\n",
              " 'PRJEB39223',\n",
              " 'PRJEB6456',\n",
              " 'PRJEB17632',\n",
              " 'PRJNA688274',\n",
              " 'PRJNA588805',\n",
              " 'PRJNA340216',\n",
              " 'PRJNA421881',\n",
              " 'PRJNA397112',\n",
              " 'PRJEB7774',\n",
              " 'PRJNA400072',\n",
              " 'PRJEB12124',\n",
              " 'PRJNA598446',\n",
              " 'PRJEB15371',\n",
              " 'PRJNA48479',\n",
              " 'PRJNA275349',\n",
              " 'PRJNA690543',\n",
              " 'PRJEB21528',\n",
              " 'PRJEB1786',\n",
              " 'PRJEB33013',\n",
              " 'PRJEB4336',\n",
              " 'PRJNA328899',\n",
              " 'PRJNA398089',\n",
              " 'PRJEB27005',\n",
              " 'PRJNA373901',\n",
              " 'PRJNA354235',\n",
              " 'PRJEB1220',\n",
              " 'PRJNA268964',\n",
              " 'PRJNA485056',\n",
              " 'PRJNA504891',\n",
              " 'PRJNA530971',\n",
              " 'PRJNA422434',\n",
              " 'PRJEB6337',\n",
              " 'PRJNA672125',\n",
              " 'PRJNA395744',\n",
              " 'PRJNA319574',\n",
              " 'PRJNA389280',\n",
              " 'PRJNA392180',\n",
              " 'PRJNA693850',\n",
              " 'PRJNA529124',\n",
              " 'PRJNA529400',\n",
              " 'PRJDB4176',\n",
              " 'PRJNA447983',\n",
              " 'PRJEB28543',\n",
              " 'PRJEB12449',\n",
              " 'PRJNA375935',\n",
              " 'PRJNA429990',\n",
              " 'PRJEB27928',\n",
              " 'PRJEB9576',\n",
              " 'PRJNA429097',\n",
              " 'PRJNA763023',\n",
              " 'PRJNA475246',\n",
              " 'PRJEB10878',\n",
              " 'PRJEB11532',\n",
              " 'PRJEB6070',\n",
              " 'PRJEB6997',\n",
              " 'PRJNA602729',\n",
              " 'PRJNA602731',\n",
              " 'PRJNA638404',\n",
              " 'PRJNA638403',\n",
              " 'PRJNA602732',\n",
              " 'PRJNA638405']"
            ]
          },
          "metadata": {},
          "execution_count": 12
        }
      ]
    },
    {
      "cell_type": "markdown",
      "source": [
        "## validaton dataset"
      ],
      "metadata": {
        "id": "93wzzSGRDn_v"
      }
    },
    {
      "cell_type": "code",
      "source": [
        "gmwi2_val = pd.read_excel(\"gmwi7.xlsx\")\n",
        "gmwi2_val_study_accessions = gmwi2_val[\"BioProjectID\"].dropna().unique().tolist()\n",
        "gmwi2_val_study_accessions"
      ],
      "metadata": {
        "id": "Cimhh4JarIPi",
        "colab": {
          "base_uri": "https://localhost:8080/"
        },
        "outputId": "8e37815a-758a-41b3-a386-2cb6e79b0e35"
      },
      "execution_count": 13,
      "outputs": [
        {
          "output_type": "stream",
          "name": "stderr",
          "text": [
            "/usr/local/lib/python3.12/dist-packages/openpyxl/styles/stylesheet.py:237: UserWarning: Workbook contains no default style, apply openpyxl's default\n",
            "  warn(\"Workbook contains no default style, apply openpyxl's default\")\n"
          ]
        },
        {
          "output_type": "execute_result",
          "data": {
            "text/plain": [
              "['PRJNA834801',\n",
              " 'PRJEB49206',\n",
              " 'PRJNA890008',\n",
              " 'PRJEB28545',\n",
              " 'PRJEB24557',\n",
              " 'PRJNA832909']"
            ]
          },
          "metadata": {},
          "execution_count": 13
        }
      ]
    },
    {
      "cell_type": "markdown",
      "source": [
        "# Q2PD"
      ],
      "metadata": {
        "id": "lJhE5NM5s5Qz"
      }
    },
    {
      "cell_type": "markdown",
      "source": [
        "## train dataset"
      ],
      "metadata": {
        "id": "_xaDO34MCXIs"
      }
    },
    {
      "cell_type": "code",
      "source": [
        "q2pd_train_study_accessions = [\"PRJNA398089\"]"
      ],
      "metadata": {
        "id": "OICyP7oU6jqU"
      },
      "execution_count": 15,
      "outputs": []
    },
    {
      "cell_type": "markdown",
      "source": [
        "## validation dataset"
      ],
      "metadata": {
        "id": "QRhYpoh4Cii7"
      }
    },
    {
      "cell_type": "code",
      "source": [
        "q2pd_validation_study_accessions = [\"PRJNA389280\", \"PRJEB1220\"]"
      ],
      "metadata": {
        "id": "cVLC1iLRCmLn"
      },
      "execution_count": 16,
      "outputs": []
    },
    {
      "cell_type": "markdown",
      "source": [
        "## test dataset"
      ],
      "metadata": {
        "id": "YzhY8KlwCuEV"
      }
    },
    {
      "cell_type": "code",
      "source": [
        "q2pd_test_study_accessions = [\"PRJEB64515\"]"
      ],
      "metadata": {
        "id": "KJd9JhVnCv4f"
      },
      "execution_count": 17,
      "outputs": []
    },
    {
      "cell_type": "markdown",
      "source": [
        "# summary"
      ],
      "metadata": {
        "id": "mEkxJ-y06hRf"
      }
    },
    {
      "cell_type": "markdown",
      "source": [
        "Check whether there are repeated studies accessions within a single health index across training, validation, and test sets, as well as between different heath indexes."
      ],
      "metadata": {
        "id": "x_Y-z3MctB6o"
      }
    },
    {
      "cell_type": "code",
      "source": [
        "import csv\n",
        "\n",
        "lista = [gmhi_train_study_accessions, gmhi_val_study_accessions, hipca_train_study_accessions, hipca_val_study_accessions, hipca_test_study_accessions, gmwi2_train_study_accessions, gmwi2_val_study_accessions, q2pd_train_study_accessions, q2pd_validation_study_accessions, q2pd_test_study_accessions ]\n",
        "\n",
        "names = ['gmhi_train', 'gmhi_val', 'hipca_train', 'hipca_val', 'hipca_test', 'gmwi2_train', 'gmwi2_val','q2pd_train', 'q2pd_val', 'q2pd_test' ]\n",
        "\n",
        "file_path = 'common_study_accessions.csv'\n",
        "\n",
        "with open(file_path, 'w') as file:\n",
        "  wirter = csv.writer(file)\n",
        "  columns = 'health indexes','common study accessions','number of common study accessions'\n",
        "  wirter.writerow(columns)\n",
        "  for i in range(len(lista)):\n",
        "    for j in range(i+1, len(lista)):\n",
        "        common_study_accessions = list(set(lista[i]) & set(lista[j]))\n",
        "        if len(common_study_accessions) == 0:\n",
        "          row = f'{names[i]} vs {names[j]}', 'None', f'{len(common_study_accessions)}'\n",
        "        else:\n",
        "          row = f'{names[i]} vs {names[j]}', f'{common_study_accessions}', f'{len(common_study_accessions)}'\n",
        "        wirter.writerow(row)\n"
      ],
      "metadata": {
        "id": "5wwfDN7ds9DD"
      },
      "execution_count": 18,
      "outputs": []
    },
    {
      "cell_type": "markdown",
      "source": [
        "number of repeated study accessions"
      ],
      "metadata": {
        "id": "tc9Q67ZTDOGN"
      }
    },
    {
      "cell_type": "code",
      "source": [
        "all_study_accessions = gmhi_train_study_accessions + gmhi_val_study_accessions + hipca_train_study_accessions + hipca_val_study_accessions + hipca_test_study_accessions + gmwi2_train_study_accessions + gmwi2_val_study_accessions\n",
        "number_of_repeated_study_accessions = len(all_study_accessions) - len(set(all_study_accessions))\n",
        "print(number_of_repeated_study_accessions)"
      ],
      "metadata": {
        "id": "lys8DQ5jtg5R",
        "colab": {
          "base_uri": "https://localhost:8080/"
        },
        "outputId": "277671f5-cee4-4471-b9e5-8ad7f7a56575"
      },
      "execution_count": 19,
      "outputs": [
        {
          "output_type": "stream",
          "name": "stdout",
          "text": [
            "63\n"
          ]
        }
      ]
    },
    {
      "cell_type": "code",
      "source": [
        "from collections import Counter\n",
        "\n",
        "counts = Counter(all_study_accessions)\n",
        "repeated_study_accessions = [study_accession for study_accession, count in counts.items() if count > 1]\n",
        "print(repeated_study_accessions)\n"
      ],
      "metadata": {
        "colab": {
          "base_uri": "https://localhost:8080/"
        },
        "id": "tB4XCDfBSHKd",
        "outputId": "4e77f8ff-4acc-4a65-b51c-2f1290eb8087"
      },
      "execution_count": 20,
      "outputs": [
        {
          "output_type": "stream",
          "name": "stdout",
          "text": [
            "['PRJEB21528', 'PRJEB7774', 'PRJEB6070', 'PRJEB12449', 'PRJEB10878', 'PRJEB1220', 'PRJNA385949', 'PRJNA389280', 'PRJEB15371', 'PRJNA278393', 'PRJNA422434', 'PRJEB1786', 'PRJEB6337', 'PRJEB12123', 'PRJEB19090', 'PRJNA305507', 'PRJNA268964', 'PRJEB1690', 'PRJNA319574', 'PRJEB11532', 'PRJEB6997', 'PRJNA299502', 'PRJDB3601', 'PRJEB8094', 'PRJEB13870', 'PRJEB6456', 'PRJEB4336', 'PRJNA177201', 'PRJNA373879', 'PRJNA328899', 'PRJNA48479', 'PRJNA290729', 'PRJEB12947', 'PRJNA397112', 'PRJNA373901', 'PRJNA375935', 'PRJNA447983', 'PRJDB4176', 'PRJEB27928', 'PRJNA529400', 'PRJNA529124', 'PRJNA504891', 'PRJEB27005']\n"
          ]
        }
      ]
    },
    {
      "cell_type": "code",
      "source": [
        "all_study_accessions = list(set(all_study_accessions))"
      ],
      "metadata": {
        "id": "IIMrIu1gbOAb"
      },
      "execution_count": 21,
      "outputs": []
    },
    {
      "cell_type": "code",
      "source": [
        "with open('all_study_accessions.txt', 'w') as file:\n",
        "    for study_accession in all_study_accessions:\n",
        "        file.write(study_accession + '\\n')"
      ],
      "metadata": {
        "id": "8Pu6QSV30C2k"
      },
      "execution_count": 22,
      "outputs": []
    }
  ]
}